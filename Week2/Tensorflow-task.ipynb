{
 "cells": [
  {
   "cell_type": "markdown",
   "metadata": {
    "slideshow": {
     "slide_type": "slide"
    }
   },
   "source": [
    "# Going deeper with Tensorflow\n",
    "\n",
    "In this video, we're going to study the tools you'll use to build deep learning models. Namely, [Tensorflow](https://www.tensorflow.org/).\n",
    "\n",
    "If you're running this notebook outside the course environment, you'll need to install tensorflow:\n",
    "* `pip install tensorflow` should install cpu-only TF on Linux & Mac OS\n",
    "* If you want GPU support from offset, see [TF install page](https://www.tensorflow.org/install/)"
   ]
  },
  {
   "cell_type": "code",
   "execution_count": 2,
   "metadata": {
    "collapsed": true
   },
   "outputs": [],
   "source": [
    "import sys\n",
    "sys.path.append(\"..\")\n",
    "import grading"
   ]
  },
  {
   "cell_type": "markdown",
   "metadata": {},
   "source": [
    "# Visualization"
   ]
  },
  {
   "cell_type": "markdown",
   "metadata": {},
   "source": [
    "Plase note that if you are running on the Coursera platform, you won't be able to access the tensorboard instance due to the network setup there. If you run the notebook locally, you should be able to access TensorBoard on http://127.0.0.1:7007/"
   ]
  },
  {
   "cell_type": "code",
   "execution_count": 3,
   "metadata": {},
   "outputs": [
    {
     "name": "stdout",
     "output_type": "stream",
     "text": [
      "/bin/sh: 1: killall: not found\r\n"
     ]
    }
   ],
   "source": [
    "! killall tensorboard\n",
    "import os\n",
    "os.system(\"tensorboard --logdir=/tmp/tboard --port=7007 &\");"
   ]
  },
  {
   "cell_type": "code",
   "execution_count": 4,
   "metadata": {
    "collapsed": true
   },
   "outputs": [],
   "source": [
    "import tensorflow as tf\n",
    "s = tf.InteractiveSession()"
   ]
  },
  {
   "cell_type": "markdown",
   "metadata": {},
   "source": [
    "# Warming up\n",
    "For starters, let's implement a python function that computes the sum of squares of numbers from 0 to N-1."
   ]
  },
  {
   "cell_type": "code",
   "execution_count": 5,
   "metadata": {
    "collapsed": true
   },
   "outputs": [],
   "source": [
    "import numpy as np\n",
    "def sum_sin(N):\n",
    "    return np.sum(np.arange(N)**2)"
   ]
  },
  {
   "cell_type": "code",
   "execution_count": 6,
   "metadata": {},
   "outputs": [
    {
     "name": "stdout",
     "output_type": "stream",
     "text": [
      "CPU times: user 292 ms, sys: 308 ms, total: 600 ms\n",
      "Wall time: 750 ms\n"
     ]
    },
    {
     "data": {
      "text/plain": [
       "662921401752298880"
      ]
     },
     "execution_count": 6,
     "metadata": {},
     "output_type": "execute_result"
    }
   ],
   "source": [
    "%%time\n",
    "sum_sin(10**8)"
   ]
  },
  {
   "cell_type": "markdown",
   "metadata": {},
   "source": [
    "# Tensoflow teaser\n",
    "\n",
    "Doing the very same thing"
   ]
  },
  {
   "cell_type": "code",
   "execution_count": 7,
   "metadata": {
    "collapsed": true
   },
   "outputs": [],
   "source": [
    "# An integer parameter\n",
    "N = tf.placeholder('int64', name=\"input_to_your_function\")\n",
    "\n",
    "# A recipe on how to produce the same result\n",
    "result = tf.reduce_sum(tf.range(N)**2)"
   ]
  },
  {
   "cell_type": "code",
   "execution_count": 8,
   "metadata": {},
   "outputs": [
    {
     "data": {
      "text/plain": [
       "<tf.Tensor 'Sum:0' shape=() dtype=int64>"
      ]
     },
     "execution_count": 8,
     "metadata": {},
     "output_type": "execute_result"
    }
   ],
   "source": [
    "result"
   ]
  },
  {
   "cell_type": "code",
   "execution_count": 9,
   "metadata": {},
   "outputs": [
    {
     "name": "stdout",
     "output_type": "stream",
     "text": [
      "CPU times: user 440 ms, sys: 128 ms, total: 568 ms\n",
      "Wall time: 420 ms\n"
     ]
    },
    {
     "data": {
      "text/plain": [
       "662921401752298880"
      ]
     },
     "execution_count": 9,
     "metadata": {},
     "output_type": "execute_result"
    }
   ],
   "source": [
    "%%time\n",
    "result.eval({N: 10**8})"
   ]
  },
  {
   "cell_type": "code",
   "execution_count": 10,
   "metadata": {
    "collapsed": true
   },
   "outputs": [],
   "source": [
    "writer = tf.summary.FileWriter(\"/tmp/tboard\", graph=s.graph)"
   ]
  },
  {
   "cell_type": "markdown",
   "metadata": {},
   "source": [
    "# How does it work?\n",
    "1. Define placeholders where you'll send inputs\n",
    "2. Make symbolic graph: a recipe for mathematical transformation of those placeholders\n",
    "3. Compute outputs of your graph with particular values for each placeholder\n",
    "  * `output.eval({placeholder:value})`\n",
    "  * `s.run(output, {placeholder:value})`\n",
    "\n",
    "So far there are two main entities: \"placeholder\" and \"transformation\"\n",
    "* Both can be numbers, vectors, matrices, tensors, etc.\n",
    "* Both can be int32/64, floats, booleans (uint8) of various size.\n",
    "\n",
    "* You can define new transformations as an arbitrary operation on placeholders and other transformations\n",
    " * `tf.reduce_sum(tf.arange(N)**2)` are 3 sequential transformations of placeholder `N`\n",
    " * There's a tensorflow symbolic version for every numpy function\n",
    "   * `a+b, a/b, a**b, ...` behave just like in numpy\n",
    "   * `np.mean` -> `tf.reduce_mean`\n",
    "   * `np.arange` -> `tf.range`\n",
    "   * `np.cumsum` -> `tf.cumsum`\n",
    "   * If if you can't find the op you need, see the [docs](https://www.tensorflow.org/api_docs/python).\n",
    "   \n",
    "`tf.contrib` has many high-level features, may be worth a look."
   ]
  },
  {
   "cell_type": "code",
   "execution_count": 11,
   "metadata": {
    "collapsed": true
   },
   "outputs": [],
   "source": [
    "with tf.name_scope(\"Placeholders_examples\"):\n",
    "    # Default placeholder that can be arbitrary float32\n",
    "    # scalar, vertor, matrix, etc.\n",
    "    arbitrary_input = tf.placeholder('float32')\n",
    "\n",
    "    # Input vector of arbitrary length\n",
    "    input_vector = tf.placeholder('float32', shape=(None,))\n",
    "\n",
    "    # Input vector that _must_ have 10 elements and integer type\n",
    "    fixed_vector = tf.placeholder('int32', shape=(10,))\n",
    "\n",
    "    # Matrix of arbitrary n_rows and 15 columns\n",
    "    # (e.g. a minibatch your data table)\n",
    "    input_matrix = tf.placeholder('float32', shape=(None, 15))\n",
    "    \n",
    "    # You can generally use None whenever you don't need a specific shape\n",
    "    input1 = tf.placeholder('float64', shape=(None, 100, None))\n",
    "    input2 = tf.placeholder('int32', shape=(None, None, 3, 224, 224))\n",
    "\n",
    "    # elementwise multiplication\n",
    "    double_the_vector = input_vector*2\n",
    "\n",
    "    # elementwise cosine\n",
    "    elementwise_cosine = tf.cos(input_vector)\n",
    "\n",
    "    # difference between squared vector and vector itself plus one\n",
    "    vector_squares = input_vector**2 - input_vector + 1"
   ]
  },
  {
   "cell_type": "code",
   "execution_count": 12,
   "metadata": {
    "collapsed": true
   },
   "outputs": [],
   "source": [
    "my_vector =  tf.placeholder('float32', shape=(None,), name=\"VECTOR_1\")\n",
    "my_vector2 = tf.placeholder('float32', shape=(None,))\n",
    "my_transformation = my_vector * my_vector2 / (tf.sin(my_vector) + 1)"
   ]
  },
  {
   "cell_type": "code",
   "execution_count": 13,
   "metadata": {},
   "outputs": [
    {
     "name": "stdout",
     "output_type": "stream",
     "text": [
      "Tensor(\"truediv:0\", shape=(?,), dtype=float32)\n"
     ]
    }
   ],
   "source": [
    "print(my_transformation)"
   ]
  },
  {
   "cell_type": "code",
   "execution_count": 14,
   "metadata": {},
   "outputs": [
    {
     "name": "stdout",
     "output_type": "stream",
     "text": [
      "[ 0.  1.  2.  3.  4.]\n"
     ]
    },
    {
     "data": {
      "text/plain": [
       "array([ 0.        ,  1.62913239,  2.09501147,  2.62899613,  0.        ], dtype=float32)"
      ]
     },
     "execution_count": 14,
     "metadata": {},
     "output_type": "execute_result"
    }
   ],
   "source": [
    "dummy = np.arange(5).astype('float32')\n",
    "print(dummy)\n",
    "my_transformation.eval({my_vector:dummy, my_vector2:dummy[::-1]})"
   ]
  },
  {
   "cell_type": "code",
   "execution_count": 15,
   "metadata": {
    "collapsed": true
   },
   "outputs": [],
   "source": [
    "writer.add_graph(my_transformation.graph)\n",
    "writer.flush()"
   ]
  },
  {
   "cell_type": "markdown",
   "metadata": {},
   "source": [
    "TensorBoard allows writing scalars, images, audio, histogram. You can read more on tensorboard usage [here](https://www.tensorflow.org/get_started/graph_viz)."
   ]
  },
  {
   "cell_type": "markdown",
   "metadata": {},
   "source": [
    "# Summary\n",
    "* Tensorflow is based on computation graphs\n",
    "* The graphs consist of placehlders and transformations"
   ]
  },
  {
   "cell_type": "markdown",
   "metadata": {},
   "source": [
    "# Mean squared error\n",
    "\n",
    "Your assignment is to implement mean squared error in tensorflow."
   ]
  },
  {
   "cell_type": "code",
   "execution_count": 16,
   "metadata": {
    "collapsed": true
   },
   "outputs": [],
   "source": [
    "with tf.name_scope(\"MSE\"):\n",
    "    y_true = tf.placeholder(\"float32\", shape=(None,), name=\"y_true\")\n",
    "    y_predicted = tf.placeholder(\"float32\", shape=(None,), name=\"y_predicted\")\n",
    "    # Your code goes here\n",
    "    mse=tf.reduce_mean((y_true-y_predicted)**2)\n",
    "    # mse = tf.<...>\n",
    "def compute_mse(vector1, vector2):\n",
    "    return mse.eval({y_true: vector1, y_predicted: vector2})"
   ]
  },
  {
   "cell_type": "code",
   "execution_count": 17,
   "metadata": {
    "collapsed": true
   },
   "outputs": [],
   "source": [
    "writer.add_graph(mse.graph)\n",
    "writer.flush()"
   ]
  },
  {
   "cell_type": "markdown",
   "metadata": {},
   "source": [
    "Tests and result submission. Please use the credentials obtained from the Coursera assignment page."
   ]
  },
  {
   "cell_type": "code",
   "execution_count": 18,
   "metadata": {
    "collapsed": true
   },
   "outputs": [],
   "source": [
    "import submit"
   ]
  },
  {
   "cell_type": "code",
   "execution_count": 19,
   "metadata": {},
   "outputs": [
    {
     "name": "stdout",
     "output_type": "stream",
     "text": [
      "Submitted to Coursera platform. See results on assignment page!\n"
     ]
    }
   ],
   "source": [
    "submit.submit_mse(compute_mse, \"tomar.ankur287@gmail.com\", \"ufS2vJNmVil9e2C6\")"
   ]
  },
  {
   "cell_type": "markdown",
   "metadata": {},
   "source": [
    "# Variables\n",
    "\n",
    "The inputs and transformations have no value outside function call. This isn't too comfortable if you want your model to have parameters (e.g. network weights) that are always present, but can change their value over time.\n",
    "\n",
    "Tensorflow solves this with `tf.Variable` objects.\n",
    "* You can assign variable a value at any time in your graph\n",
    "* Unlike placeholders, there's no need to explicitly pass values to variables when `s.run(...)`-ing\n",
    "* You can use variables the same way you use transformations \n",
    " "
   ]
  },
  {
   "cell_type": "code",
   "execution_count": 20,
   "metadata": {
    "collapsed": true
   },
   "outputs": [],
   "source": [
    "# Creating a shared variable\n",
    "shared_vector_1 = tf.Variable(initial_value=np.ones(5),\n",
    "                              name=\"example_variable\")"
   ]
  },
  {
   "cell_type": "code",
   "execution_count": 21,
   "metadata": {},
   "outputs": [
    {
     "name": "stdout",
     "output_type": "stream",
     "text": [
      "Initial value [ 1.  1.  1.  1.  1.]\n"
     ]
    }
   ],
   "source": [
    "# Initialize variable(s) with initial values\n",
    "s.run(tf.global_variables_initializer())\n",
    "\n",
    "# Evaluating shared variable (outside symbolicd graph)\n",
    "print(\"Initial value\", s.run(shared_vector_1))\n",
    "\n",
    "# Within symbolic graph you use them just\n",
    "# as any other inout or transformation, not \"get value\" needed"
   ]
  },
  {
   "cell_type": "code",
   "execution_count": 22,
   "metadata": {},
   "outputs": [
    {
     "name": "stdout",
     "output_type": "stream",
     "text": [
      "New value [ 0.  1.  2.  3.  4.]\n"
     ]
    }
   ],
   "source": [
    "# Setting a new value\n",
    "s.run(shared_vector_1.assign(np.arange(5)))\n",
    "\n",
    "# Getting that new value\n",
    "print(\"New value\", s.run(shared_vector_1))"
   ]
  },
  {
   "cell_type": "markdown",
   "metadata": {},
   "source": [
    "# tf.gradients - why graphs matter\n",
    "* Tensorflow can compute derivatives and gradients automatically using the computation graph\n",
    "* True to its name it can manage matrix derivatives\n",
    "* Gradients are computed as a product of elementary derivatives via the chain rule:\n",
    "\n",
    "$$ {\\partial f(g(x)) \\over \\partial x} = {\\partial f(g(x)) \\over \\partial g(x)}\\cdot {\\partial g(x) \\over \\partial x} $$\n",
    "\n",
    "It can get you the derivative of any graph as long as it knows how to differentiate elementary operations"
   ]
  },
  {
   "cell_type": "code",
   "execution_count": 23,
   "metadata": {
    "collapsed": true
   },
   "outputs": [],
   "source": [
    "my_scalar = tf.placeholder('float32')\n",
    "\n",
    "scalar_squared = my_scalar**2\n",
    "\n",
    "# A derivative of scalar_squared by my_scalar\n",
    "derivative = tf.gradients(scalar_squared, [my_scalar, ])"
   ]
  },
  {
   "cell_type": "code",
   "execution_count": 24,
   "metadata": {},
   "outputs": [
    {
     "data": {
      "text/plain": [
       "[<tf.Tensor 'gradients/pow_1_grad/Reshape:0' shape=<unknown> dtype=float32>]"
      ]
     },
     "execution_count": 24,
     "metadata": {},
     "output_type": "execute_result"
    }
   ],
   "source": [
    "derivative"
   ]
  },
  {
   "cell_type": "code",
   "execution_count": 25,
   "metadata": {},
   "outputs": [
    {
     "data": {
      "image/png": "[encoded data removed]",
      "text/plain": [
       "<matplotlib.figure.Figure at 0x7f9474a67898>"
      ]
     },
     "metadata": {},
     "output_type": "display_data"
    }
   ],
   "source": [
    "import matplotlib.pyplot as plt\n",
    "%matplotlib inline\n",
    "\n",
    "x = np.linspace(-3, 3)\n",
    "x_squared, x_squared_der = s.run([scalar_squared, derivative[0]],\n",
    "                                 {my_scalar:x})\n",
    "\n",
    "plt.plot(x, x_squared,label=\"$x^2$\")\n",
    "plt.plot(x, x_squared_der, label=r\"$\\frac{dx^2}{dx}$\")\n",
    "plt.legend();"
   ]
  },
  {
   "cell_type": "markdown",
   "metadata": {},
   "source": [
    "# Why that rocks"
   ]
  },
  {
   "cell_type": "code",
   "execution_count": 26,
   "metadata": {
    "collapsed": true
   },
   "outputs": [],
   "source": [
    "my_vector = tf.placeholder('float32', [None])\n",
    "# Compute the gradient of the next weird function over my_scalar and my_vector\n",
    "# Warning! Trying to understand the meaning of that function may result in permanent brain damage\n",
    "weird_psychotic_function = tf.reduce_mean(\n",
    "    (my_vector+my_scalar)**(1+tf.nn.moments(my_vector,[0])[1]) + \n",
    "    1./ tf.atan(my_scalar))/(my_scalar**2 + 1) + 0.01*tf.sin(\n",
    "    2*my_scalar**1.5)*(tf.reduce_sum(my_vector)* my_scalar**2\n",
    "                      )*tf.exp((my_scalar-4)**2)/(\n",
    "    1+tf.exp((my_scalar-4)**2))*(1.-(tf.exp(-(my_scalar-4)**2)\n",
    "                                    )/(1+tf.exp(-(my_scalar-4)**2)))**2\n",
    "\n",
    "der_by_scalar = tf.gradients(weird_psychotic_function, my_scalar)\n",
    "der_by_vector = tf.gradients(weird_psychotic_function, my_vector)"
   ]
  },
  {
   "cell_type": "code",
   "execution_count": 27,
   "metadata": {},
   "outputs": [
    {
     "data": {
      "image/png": "[encoded data removed]",
      "text/plain": [
       "<matplotlib.figure.Figure at 0x7f93b84108d0>"
      ]
     },
     "metadata": {},
     "output_type": "display_data"
    }
   ],
   "source": [
    "# Plotting the derivative\n",
    "scalar_space = np.linspace(1, 7, 100)\n",
    "\n",
    "y = [s.run(weird_psychotic_function, {my_scalar:x, my_vector:[1, 2, 3]})\n",
    "     for x in scalar_space]\n",
    "\n",
    "plt.plot(scalar_space, y, label='function')\n",
    "\n",
    "y_der_by_scalar = [s.run(der_by_scalar,\n",
    "                         {my_scalar:x, my_vector:[1, 2, 3]})\n",
    "                   for x in scalar_space]\n",
    "\n",
    "plt.plot(scalar_space, y_der_by_scalar, label='derivative')\n",
    "plt.grid()\n",
    "plt.legend();"
   ]
  },
  {
   "cell_type": "markdown",
   "metadata": {},
   "source": [
    "# Almost done - optimizers\n",
    "\n",
    "While you can perform gradient descent by hand with automatic grads from above, tensorflow also has some optimization methods implemented for you. Recall momentum & rmsprop?"
   ]
  },
  {
   "cell_type": "code",
   "execution_count": 28,
   "metadata": {
    "collapsed": true
   },
   "outputs": [],
   "source": [
    "y_guess = tf.Variable(np.zeros(2, dtype='float32'))\n",
    "y_true = tf.range(1, 3, dtype='float32')\n",
    "loss = tf.reduce_mean((y_guess - y_true + tf.random_normal([2]))**2) \n",
    "#loss = tf.reduce_mean((y_guess - y_true)**2) \n",
    "optimizer = tf.train.MomentumOptimizer(0.01, 0.5).minimize(\n",
    "    loss, var_list=y_guess)"
   ]
  },
  {
   "cell_type": "code",
   "execution_count": 29,
   "metadata": {},
   "outputs": [
    {
     "data": {
      "image/png": "[encoded data removed]",
      "text/plain": [
       "<matplotlib.figure.Figure at 0x7f93b3560470>"
      ]
     },
     "metadata": {},
     "output_type": "display_data"
    }
   ],
   "source": [
    "from matplotlib import animation, rc\n",
    "import matplotlib_utils\n",
    "from IPython.display import HTML, display_html\n",
    "\n",
    "fig, ax = plt.subplots()\n",
    "y_true_value = s.run(y_true)\n",
    "level_x = np.arange(0, 2, 0.02)\n",
    "level_y = np.arange(0, 3, 0.02)\n",
    "X, Y = np.meshgrid(level_x, level_y)\n",
    "Z = (X - y_true_value[0])**2 + (Y - y_true_value[1])**2\n",
    "ax.set_xlim(-0.02, 2)\n",
    "ax.set_ylim(-0.02, 3)\n",
    "s.run(tf.global_variables_initializer())\n",
    "ax.scatter(*s.run(y_true), c='red')\n",
    "contour = ax.contour(X, Y, Z, 10)\n",
    "ax.clabel(contour, inline=1, fontsize=10)\n",
    "line, = ax.plot([], [], lw=2)\n",
    "\n",
    "def init():\n",
    "    line.set_data([], [])\n",
    "    return (line,)\n",
    "\n",
    "guesses = [s.run(y_guess)]\n",
    "\n",
    "def animate(i):\n",
    "    s.run(optimizer)\n",
    "    guesses.append(s.run(y_guess))\n",
    "    line.set_data(*zip(*guesses))\n",
    "    return (line,)\n",
    "\n",
    "anim = animation.FuncAnimation(fig, animate, init_func=init,\n",
    "                               frames=400, interval=20, blit=True)"
   ]
  },
  {
   "cell_type": "code",
   "execution_count": 30,
   "metadata": {},
   "outputs": [
    {
     "data": {
      "text/html": [
       "<img src=\"data:image/jpeg;base64,/9j/4AAQSkZJRgABAQAAAQABAAD/2wBDAAIBAQEBAQIBAQECAgICAgQDAgICAgUEBAMEBgUGBgYFBgYGBwkIBgcJBwYGCAsICQoKCgoKBggLDAsKDAkKCgr/2wBDAQICAgICAgUDAwUKBwYHCgoKCgoKCgoKCgoKCgoKCgoKCgoKCgoKCgoKCgoKCgoKCgoKCgoKCgoKCgoKCgoKCgr/wAARCAEgAbADASIAAhEBAxEB/8QAHwAAAQUBAQEBAQEAAAAAAAAAAAECAwQFBgcICQoL/8QAtRAAAgEDAwIEAwUFBAQAAAF9AQIDAAQRBRIhMUEGE1FhByJxFDKBkaEII0KxwRVS0fAkM2JyggkKFhcYGRolJicoKSo0NTY3ODk6Q0RFRkdISUpTVFVWV1hZWmNkZWZnaGlqc3R1dnd4eXqDhIWGh4iJipKTlJWWl5iZmqKjpKWmp6ipqrKztLW2t7i5usLDxMXGx8jJytLT1NXW19jZ2uHi4%2BTl5ufo6erx8vP09fb3%2BPn6/8QAHwEAAwEBAQEBAQEBAQAAAAAAAAECAwQFBgcICQoL/8QAtREAAgECBAQDBAcFBAQAAQJ3AAECAxEEBSExBhJBUQdhcRMiMoEIFEKRobHBCSMzUvAVYnLRChYkNOEl8RcYGRomJygpKjU2Nzg5OkNERUZHSElKU1RVVldYWVpjZGVmZ2hpanN0dXZ3eHl6goOEhYaHiImKkpOUlZaXmJmaoqOkpaanqKmqsrO0tba3uLm6wsPExcbHyMnK0tPU1dbX2Nna4uPk5ebn6Onq8vP09fb3%2BPn6/9oADAMBAAIRAxEAPwD9/KKKKACiiigAooooAKKKKACiiigAooooAKKKKACiiigAooooAKKKKACiiigAooooAKKKKACiiigAooooAKKKKACiiigAooooAKKKKACiiigAooooAKKKKACiiigAooooAKKKKACiiigAooooAKKKKACiiigAorj/AAR%2B0J8A/iZ431n4Z/Dj44eD/EHiTw5JJH4h8P6J4ltbu%2B0t0kMTrcQRSNJAVkBQh1GGG088VZtfjb8Gb74p3PwLsvi54Ym8b2dgL288HRa/btqsFqQpE72gfzljIdPnK7fmXnkUAdPRRRQAUUUUAFFFFABRRRQAUUUUAFFFFABRRRQAUUUUAFFFFABRRRQAUUUUAFFFFABRRRQAUUUUAFFFFABRRRQAUUUUAFFFFABRRRQAUUUUAFFFFABRRRQAUUUUAFFFFABRRRQAUUUUAfIz%2BIrvxH/wUT0j40aVp3xZ1nw/4Z8I6/pWr2XiP4WX%2Bn6b4Ukmn0yMNpUo06CbVWu5bUtJiS%2BRUQyxvbxjbLy/g74f/EGL9qTw98N5fhR4oh17Qf2nfEnj3WvGcvhq6TSpvDt5oWp29tImpmP7NPIVvbDT/sqyGZPszMYxHCr19w0UAeIftr%2BO/wBp34WeFtF8bfAPx94D022ufF/hzw/qFj4v8B3uqyO%2Bq67Y6X9ojlttVsxGIkvDJ5ZR95jA3oDkWf8AhB/%2BChf/AEdB8Gf/AAw%2Brf8AzUUft4f8kQ0P/ss3w4/9TXRK9moA8Z/4Qf8A4KF/9HQfBn/ww%2Brf/NRVbWdA/bz8OaRdeIPEP7W3wQsLCyt3nvb29%2BB2qRQ28SAs0ju3ikKigAkkkAAZrtvhz8ddL%2BIPxC8S/DO58F65oGp%2BHTHIkWuxQx/2nZvJNEt5biOVy0JlglTLBW4UlQHUnwnxj4Y%2BMnh7SfE/w8%2BNujX%2BsaZ8RPFEvhqz8ZS%2BM3nuFS8eQ2EkOlRwrDawQsyQuY2EpCNOwKqSOulhHOfLN2emnVp9tbOyu/6dsZ1Uo3Svv/X3lHxB8b/27NYt/Cy/AD9pj4A%2BOLnxXqV3bWWPhRqtnboLWBp58y/8JHKfNCqAsRUFtwJKoC47H4Paz%2B3j8Zfh1p3xD0P9pT4RWkd4JYrqwvPgJqyz2V1DK8FxbSj/AISjiSKaOSNscbkOOKzfC3wc%2BK/xk%2BI914s8Z%2BCNU8Aatplhpl2de32sscviW1M0TXVtHHI3m272k8sT7wm%2BO5ZPvLlPb/gn8K5vhL4RuNG1LxGNX1PUtYvNV1nU0sVtUuLu5lMkjJCpYRoMgBdzHC5LMSSdcTTwtKlyxfvffvfqtNrbWflrpNKVWUrvb%2BvmeEeBx/wWR8RfFHWNF8XeKPgJ4e8H2FxPDpniCf4dapc32qbWxHMlnF4gKRRuAW/eThxkZTOcegf8IP8A8FC/%2BjoPgz/4YfVv/mor2aiuKclN3UUvS/6tm0U0tXc8Z/4Qf/goX/0dB8Gf/DD6t/8ANRR/wg//AAUL/wCjoPgz/wCGH1b/AOaivZqw/iF8T/ht8JPDsni/4qfEDRPDWlQ/63Ute1SGzgXjODJKyrn8amMZSdoq7K3PNf8AhB/%2BChf/AEdB8Gf/AAw%2Brf8AzUUf8IP/AMFC/wDo6D4M/wDhh9W/%2BaiuQn/4Kh/BjxncPpn7Lfwu%2BInxlulcx/afAPhOX%2BzEkzgB9SvDBaBf9pZH78HFNHiv/gqv8XOfD3wo%2BFXwe0%2BX5Wl8V65ceJtVjH98QWQgtVb2M7jPr1rs/s/ER/i2h/iaT%2B7WX/kpfJLrodj/AMIP/wAFC/8Ao6D4M/8Ahh9W/wDmorK8XH9tXwBpZ1vx5%2B2j8BNEsl%2B9eav8F9Stoh/wOTxUB%2BtYn/DB3xr%2BIH779or/AIKJfFfXc8PpvgZ7TwnYsvdStjGbgj63BODyTWt4R/4JZ/sB%2BE9UGv3H7NOh%2BItT6vqnjiWfX7h267i%2BoyTHOeeMY7Yo9lgYfHVcv8Mf1k1%2BQWgup4x4q/4KMP4T1I6Kf%2BCo37O2tXwyBZeD/gRrmuzE%2BgTTvEs5J7YxWb/w3d%2B3rr//ACSnwjrXi1H/AOPe8tP2O9a022l9CJdT8W2w2%2B/P0r7m8K%2BCvBvgTTRovgjwlpmjWa/dtNKsI7eIf8BjUD9K06Pa4CPw0pP1lb8Ix/ULw7HwPH8av%2BDgjxA4bwj%2BzN8I7OBz8k3jHRfsJx6lLTxNeMv0IzXffCy1/wCC7ev%2BI7T/AIW94p/ZT8N6I%2B77ZLo/hPxHqd9F8jbdsTalBE3z7QcyjAJPJAB%2BuqKieIpSjaNKK/8AAm/xl%2BgnJdjxn/hB/wDgoX/0dB8Gf/DD6t/81FH/AAg//BQv/o6D4M/%2BGH1b/wCaivZqK5STxn/hB/8AgoX/ANHQfBn/AMMPq3/zUUf8IP8A8FC/%2BjoPgz/4YfVv/mor2aigDxn/AIQf/goX/wBHQfBn/wAMPq3/AM1FH/CD/wDBQv8A6Og%2BDP8A4YfVv/mor2aigDxn/hB/%2BChf/R0HwZ/8MPq3/wA1FH/CD/8ABQvt%2B1B8Gf8Aww%2Brf/NRXs1FAHxJ4k1P/g4i8P7pdK0j9kfX0H3E0%2Bw8RW8jD3E96qg/8CNYI/aJ/wCC63hg%2Bd8Sv2XvBot1/wBZP4J8CQ6wf%2BAxyeMLaRv%2B%2BRX3zRXZHE0bWlRi/wDwJflJ/kVzLsfK/wCz98Sv%2BChPx%2B0zUr9/GnhvwRNpk8cU1j8Qf2YtX06WYspO6EjxY6TKMYLIxAJA71pfEvxF/wAFBvh74t8EeC7f9oL4M6he%2BNvEj6Xbr/wpTVYRaxRWNzeTXJ/4qZt4VLbbs%2BXLSKNwr6Wrzbx/%2BzPoHjv4y6D8dU%2BI/jDSdb8O288NhbafrKyaeVmiaKQtZ3EcsIYqeXRVf5R83XMU5Yd13Jq0bOy1lrZ27PfW/QFy3PBf2g/jh/wUO%2BCWpXmmaH8V/hH4kfQPDMniXxhJD8GdStk0nR42kDT5fxOTNKfJmKQqAWELfMOM60Hxz/aoufinb/CGL9rP4VnUrm7SyS7/AOGbde%2BwrfvaC8Wxa6/4SXyluTbETeUWB2%2B4xXb/ABj/AGSvHXxJ8U31xpHxXtLTR/Fvh6w0bx8l1ope9u7e1mkk3WsiSpHCZlkeGRWjZQrFkw2c8PqP7PH7SK6v4g8LaD4b06z0/TfFeu%2BL9B8S/wBqKf7Sv5bcppVsIBmSLySyrK78MLddmRIQnXTo4GpSScrO3e333XR9F038qSg0dT4Q179rv4gavqvh/wACftzfs%2Ba1qGhXAg1ux0r4O6hcTafISQEnRPFZaIkq2AwGcH0rf/4Qf/goX/0dB8Gf/DD6t/8ANRXF/sZeCtWfxvoXiLRPBHiDw54Z8GfCDTvCaQeJdBm0271HUzMJrl3imVXkEIiTE2NjyXc5RnBLH0f4l/ttfsqfBj4q2/wW%2BMHxs0fwr4gu7OO5s4vEbPZW1wjlgoS7mVbdnypygk3jIyBuGeethJKu6dFOVlfRXfntfyfW1yXHWyMz/hB/%2BChf/R0HwZ/8MPq3/wA1FH/CD/8ABQv/AKOg%2BDP/AIYfVv8A5qK9f0vVdM1zTodX0XUoLy0uYxJb3VrMskcqHoyspIYH1FT1x7EnjP8Awg//AAUL/wCjoPgz/wCGH1b/AOaivP8AwGP%2BCyGo/FLVfB/xL8UfATSfDkFvLNo3i/R/h1ql9HeYlVUhltpPEEMsEpRi5wHjGxhvPy5%2BpqKuM1FNOKd/XTzWv53Jaba1Pmf48eIv%2BCh/wV%2BHFx41sPjv8F9d1F7q3sdG0I/BrV7RtRvriVYbeBZB4jl2lpHUE7DhdzHhTV/4ieI/2wPhBo9pr3xY/ba%2BAnh2zvb2Ozgu9W%2BCmqQwtcPnam9/FIAzg8nA47V6B8VvgFqvxB%2BJ3hf4raX8TdStJfCt2bq28M30Edzo93N9nuIVmki2rKkyi5YrIkgA2qSjEDHC/tNQ/EnxB4m8NL4X%2BFfixvF2g3kEnhzWNKeCbQLk3Pl29/HeCQsUiSCSfJliRyozCxc7R10aVCqoQv3bezXZa6WVt9d3poZTnUhzO3a39I2bTwl/wUAv7WK/sP2qvgrPBPGskM0PwK1VkkQjIZSPFOCCDkEVJ/wg/wDwUL/6Og%2BDP/hh9W/%2BaivNdS%2BMuueHtf0z4uRfEy50Hw1a%2BK9StLHwjZ20MenQeGNKW4TULuaLZv377d3VwRtCRqnDkN7F8G/j74n%2BIXjWbwN47%2BFzeFr2Xw3a6/pVrLq4uZ3sppHj23MYjX7NOrpgx5cfNw5KsqzVwVWnHmWq/L/O11e2g4V4SdjjNS8Y/tm/CX40/Crw18Ufi38MPEvh/wAeeNbvQdTtNA%2BF2o6ReW4j8P6vqcc0VxNrl2gPm6dGjK0JysjYKkA19A14z%2B1B/wAlv/Zx/wCyzX3/AKhXiivZq4zYKKKKACiiigAooooAKKKKACiiigDxn9vD/kiGh/8AZZvhx/6muiV0/gH9pT4cfFD4t%2BIvhB4Dg1jUbnwoGj17Wo9HlXS7a8V1VrEXTAJJcru3MibtoByQRiuY/bw/5Ihof/ZZvhx/6muiV7KiJGCI0CgkkgDHJ5Jq4umovmV301tb/P00Jak2rM8u%2BLvwe%2BKHi/41eDviZ8MfGOkeHP7Ds72013Ubqwe8ub%2BynMTGzSHckajfEsgmdm2OgxGwZs9XafB34fJ4nsPHus%2BHrbV/EemWrW9l4i1W2jlvIUZmLBH2gR53EHYFyMA8AV09FW69VxUb2sraaaeb3e//AABKnFNvuFVtY1nSPD2lXOva/qttY2NnA015e3k6xRQRqMs7uxAVQASSTgAVT8bjxq3hHUV%2BHEulprptWGlPrUUj2izY%2BUyrGyuyDuFZSemR1rxI634q/ae/ZI8b/C/4i32k6V430d7vw94oxGYLAalAUeGULIzMltcxtbTKCzER3O3cWXNOlR9ouZvS6T7q/W3b9TRK50PxC/a50a2t/C6/s/aJp3xJufFUeoXGm/2P4khjtpYLKBZpglwFkR52EkYjh%2BXduLFkVGYeLeI/2k/G2seIvHnx48DfE3XI38H2eka/o3gW/mt4dP1fwsSseoRLGU3C/W5ttShLl2MU0duufLlUHV8I/Br4i/Gf40%2BIfGll4M1/4Z3UA0vV5dQ1PTY2iTxVbyPb3Eluqybby2ubGOGOZl2hl2bX3l9nr/gL9kj4Z6b4G0zw78X/AA5oHjjU7DXb3WhqeqeG4hFDfXVzJcubaGQym3iV5SI497lAifMSoNelfA4RWau9L7N66vvHbTRp63NPcid/418PXXjjwNqfhfTfFeqaDNqumy28GtaQUjvLBpEKrPF5qMqyoSGG9CARyp6V4z8Pf%2BCZ37IngzxFH498YeA7r4ieK05bxb8UtVl8QX5bsym7LRwkdvJjjA7CvfaK82nicRRg405OKe9tPxWvyvbyM1KSWgy3t4LSBLW1gSOKNAsccahVVQMAADoBT6KKwEFFFc/8SPiv8Lfg34bk8ZfF34k6B4V0iLPm6p4j1iCxt04zzJMyqPzpqMpOyV2NJydktToKK%2BVbz/gsN%2Byj4lvJdI/Zo8N/Eb4330LlJYvhD4AvNTtUYcfNfyrDYgZ4z5%2BB37UwftEf8FW/iv8Au/hN/wAE/PB3w9tZPmg1f4x/FJJZdnYtY6NDclWxztadT2OOtdX1HEr40o/4mo/g3f8AA6fqWIXxpR/xNL8G7/gfVtFfKY/Z0/4KwfEX/S/iR/wUZ8HeBkk4l0v4VfByGTYO4W61i5ujn38ketL/AMOsh4k/efF//goR%2B0x4saTm5th8UTo1rJ6jydIgtcL/ALJJ%2BtH1fDx%2BKsvkpP8ASKD2FCPxVV8lJ/okfVTukal3YKoGSScACuR8S/tBfAXwYzJ4w%2BN3hDSSn3xqXiW1gK/XfIMV4Kn/AARR/wCCal2wm8Xfs%2BXXimbOZJ/GfjjWtZaRvUi8vJF/IAV13hr/AIJX/wDBNPwkqjRP2BvhAGT7st18PdPuJB/wOWJm/WjlwC%2B1J/8AbsV%2BcmHLgl9qT%2BSX5yZtar/wUO/YB0Jimt/ty/B6zK/eF18TNKjI/wC%2BrgVjzf8ABUv/AIJoQNtf/goJ8Fyf9j4m6W38p67DSv2Nf2QdCULon7Knw2swv3Ra%2BBtPjx/3zCK2If2d/wBn%2B3XZB8DPByD0TwzaD%2BUdF8v7T/8AJP8AIP8AYe0//Jf8jzq2/wCCon/BNS7YJD/wUE%2BCuT0D/FDSl/8AQrgVvaN%2B3p%2Bwz4iYJ4f/AGz/AIT3xb7os/iLpkuf%2B%2BZzXSXX7N/7O96uy9%2BAnguYHqJfC1ow/WOsHWP2HP2KfEKlNf8A2PvhbfBvvC8%2BH%2Bmy5/76hNH/AAn/AN//AMkD/Yf7/wD5Kdn4X%2BK3wu8blV8F/EnQNXLfdGl6xBcZ%2Bnlsa36%2BdPFH/BIn/gl74vDDVv2B/hVFu6nS/BtrYn8DbIhFYB/4Iv8A7BGknz/hr4P8beBrkf6u68DfFnxDphj/AN1Ir7yx/wB8UcmAe05L1in%2BUg5cE9pyXrFP8pH1VRXyp/w7X%2BLPg7/Svgj/AMFR/wBojQrhf9VD4n1/TvE9qvplNTspZG/GWk/4Vb/wWO%2BGf/Im/tY/Bf4oQdfI%2BIPw3vNBuSPT7Rpd1LGD/tfZ8f7NP6tRl8FaPzUo/mmvxD6vRl8NVfNSj%2Baa/E%2BrKK%2BUT%2B2h%2B338Kv8Ak4f/AIJda/qljD8s%2Bu/BXx3p/iFXP95bK7%2BxXQHsFc8dzgVreB/%2BCvP7BfiXxDD4G8efF24%2BGfiWY7T4Z%2BL2gXnhe7V%2BmwHUY4opGyQP3bvycUngcVa8Y8y/utS/Jt/gDweJteMeZf3Wpfk2/wAD6YoqtpGsaR4g0yDW9B1W2vrK5jEltd2c6yxSoejK6khh7g1Zrk2OXYKzfFng3wh4%2B0Kfwt468K6brWmXK4udO1axjuYJR6NHICrfiK0qKabi7oD5r1P/AIJe/A3wrqVx4o/ZU8aeMPglrM8hmkk%2BHGuNDps8nUedpdwJbKRAf4REv1FV28af8FL/ANnH/kffh14Z%2BPfhuD7%2BseCGXQPEiRjlnfT7l2tLlsdFhmiJ7L2P05RXasfWnpWSqL%2B9q/8AwJWl%2BLL5299Txv4E/t6/s0fH/wARv8PNA8ZT6B40gH%2Bm/D/xrp8mka5btjJH2S5CtKB3eLzE/wBqvZK4T48fsxfAD9p3w4nhb48/CjSPEltCd1nLfW%2BLmyf/AJ6W9whWW3f/AG43VvevFn%2BCH7cf7JP%2Bn/syfFR/i/4Og5b4a/FHVNmr28Y/g0/W9uWPQLHeK6gDHmjrR7LCYj%2BFLkl2lt8p/wDySXqFoy20PqSivHP2eP24fgz%2B0D4hufhkU1Twd8QdNi36x8N/Gtl9g1i1UdZEjYlbqHjImgaSMgg5GcV7HXLVo1aE%2BSorP%2BvvXmm15ktNOzPOPHX7K3wb8WeG/GGmaH4K0nQNT8a2jRazrul6TCtxNIWDrLJ8uJT5gV2DcOR82au/CL4O6j4C1zXPH3jbxmfEfirxILWPVdXWw%2ByQrb2yOsFtBAHfyokaWeTBdiXnkJY547qiqeIrOm4OV0/%2BB13totPJGfs4KV7HjH7TrF/jb%2BzkShX/AIvPfjB9vBXijmvZ68Z/ag/5Lf8As4/9lmvv/UK8UV7NWJYUUUUAFFFFABRRRQAUUUUAeD%2BFPjN%2B0Fof7Z9v%2Bzp8QvEHgjxJpes%2BEdV8RLF4V8OXlje%2BFbaC9toLFb6Wa9uI7oXQmuFR1jtSXsZiiSKshiwvhX%2B1P8Xdd/bS8V/A34seJtE8M6Lb%2BJ7nTfAGgX/wn1u0ufE9tFpdvdm4tdenuxp93IrtdlreCBpBHauSAEZx0Xwm/YlvPg58QvG/xG8OftZfE27uvH2uT6rrcGrW3h2cLO7IIljm/sgXHlW8KLbwxPK6RxcBS3z1v337LUHiL45aL8a/Hvxv8a%2BIofC2tXOr%2BEfB2pHTI9J0W%2Bms7iyaeL7NZRXUxW2u7qNBc3EyqJ2IG5UZQDjP%2BChfxc%2BFHhrwf4M%2BFHiP4neHtP8AFPiD4w/D2XQfDV7rUEWoakkfjPRmka3t2cSTBVVixRSAFJOMGvoevGf28P8AkiGh/wDZZvhx/wCprolezUAFcT8ff2h/hD%2BzH8PZviZ8Z/F8OlaakqwWsexpbm/uX4jtraFAXuJnPCxoCx5PQEjH/an/AGpPBn7LXge11zV9Ivde8Ra7fLpvgvwXowD6h4h1Fx8ltAvYD7zyt8kaAs3YHhP2dv2RfGep/EGD9rX9tPVbLxL8UXiYaDpFsS%2Bj%2BBbZ%2BtppyNw05GBLeN%2B8kIwpVOG7KOHgqftq7tDolvJ9l2S6yei2V3oqUVa72PRP2afih8YvjD4JuvHvxb%2BBs3w%2BjvdRZvDWhanqaz6kdO2J5ct9Gi7LWdm3kwB3KKVViGBFJo37LXwo0z40678ftSt9Q1bxJrwgSWTVdQaS1tYoVVYo4bVdsClduRKyNNyQZCOK9GorF1pKcnT91S0sr7dtdenz/AV9dAooorEQUUV4H%2B1B/wAFAfh78BfGlt8Bfhr4M1b4o/F/VbYTaR8L/BpRrtIjgC6v53Pk6ZaZK5nnIyD8iuQRWlKlUrT5YK7/AK1fRLzdkaU6VStLlgrv%2Bt%2By82e9SyxQRNNNIqIilndjgKB1JPYV8w%2BP/wDgqp8FLjxfe/CX9kbwN4l%2BP3jayk8m70n4YWyT6bpsx6LfavKyWNoM5BBlZ1I5SsC0/YK%2BP/7YEi%2BKf%2BCnXxm%2B3aJMwktvgR8Nr%2Bew8M2y9Vj1G6UpdazIMKWDtHb7gcRFTX1L8Pfhx8PvhL4Qsvh/8LfA%2BkeHNC06Ly7DR9D06O0tbdfRIolVV/AV08uEofE%2BeXZaR%2B/d/JJeZvy4Wh8T532Wkfv3fySXmfMq/CH/AIKp/tN/6R8Z/wBofwz8AvDVx97wp8IrJdZ19om6xzazqEfkQyD%2B9bWp9nrovht/wSX/AGGvAviSP4g%2BMfhTN8S/Fy8yeMvi7q8/ifUXfOd6tftJHCfTyUjA7CvpKipljcRblg%2BRdo6fe1q/nITxle1oPlXaOn4rV/NkVlZWWm2cWn6daRW9vCgSGCCMIkagYCqo4AA7CpaKK5DlCiiigAooooAKKKKACiiigAooooAKKKKACsjxx8PvAXxO8OzeEPiV4I0jxDpNwMXGl65psV3by/70cqsrfiK16Kabi7oabTuj5W1n/gkN%2BzT4Z1OfxV%2ByV4t8cfAPXJpDK9x8JPE0llp88nUedpUwlsJUz1XyFyO44Ipv4k/4K0/stjd4r8JeDf2lvC0H%2Bs1DwwE8K%2BLI4%2BpdrSZ30%2B8YD%2BGOW3Zj0XkCvrWiutY2tLSraa/vav8A8C0l%2BLOlYyrLSraa/vav79Jfizwn9nX/AIKOfst/tH%2BLX%2BFWk%2BKdQ8I/EG3TN98MviJpUmieILfgk4tLjBuFwM%2BZA0seP4q92rzr9o79kr9nD9rfwmngv9or4QaP4otIH8ywnvYCl3p8uQRLa3MZWa1kBA%2BeJ0b3rwGb4c/8FBP2BR/afwV8Wap%2B0Z8LLUZuPAfjDUI08aaNAOT/AGfqb7Y9VVRki3u9sxCqqzMTT9lhq/8ACfLLtJ6fKWn3SS9R%2Bzw9f%2BG%2BV9pPT5S/%2BSS9T7DorzL9lz9r/wCA/wC2F4MuPF/wU8WvcTaZc/ZPEfh7VLR7PVtBvBndaX1nKBLbSqQwwww20lSy816bXLOnOlNxmrNdGc04TpycZKzQUUUVBJ5z%2B0Z%2Byj8Dv2p/D1tonxd8ICe702Xz9B8Q6dcNaarotwMFZ7O7iIlgcEA/Kdp2gMGHFeKj42/tJfsAzppH7W9/efEf4So4js/jJp2n/wDE18Px5wq65aQjEsQHH26BccZljUtur6wplxb293bva3UCSxSoUkjkUMrqRggg8EEdq66OLcIeyqrmh2fTzi94v8H1T3KUrKz2KvhvxL4d8Y6BZeK/CWu2eqaXqNslxp%2Bo6fcrNBcwuMrJG6Eq6kEEEEg1dr5I8Y/CT4if8E5NevfjV%2Byv4bvtf%2BEF3cveePvg5YL5kuhhjum1TQkP3ccvLYjCONxj2tgD6a%2BGPxN8A/GbwBpPxT%2BF3im01vw/rlkl1pWqWUm6OeJu47gg5BUgMrAqQCCKWIw6pxVSm%2BaD2fVPtJdH%2BDWqdtiUbarY82/ag/5Lf%2Bzj/wBlmvv/AFCvFFezV4z%2B1B/yW/8AZx/7LNff%2BoV4or2auUkKKKKACiiigAooooAKKKKACiiigDxn9vD/AJIhof8A2Wb4cf8Aqa6JXoXxh%2BLfgP4D/C7XvjH8T9cTTtA8OabLfapduMlY0GdqjqzscKqjlmZVHJFee/t4f8kQ0P8A7LN8OP8A1NdErg/2h7YftXfts%2BDv2S5P3/gz4c2Nv4%2B%2BJUA5ivrzzmj0XTpexXzYp7x42BDC2iz1rpwtGNar7%2BkUm5ei3t5vRLzfkVFXepe/Y4%2BC3jz4i%2BNLj9vT9qPQXtvHXiayMPgrwrd/Mvgbw%2B53RWaKeBeTLtkuZcBizCIbVQg/SlFFTiK8sRU5notklsktkvJfjq3q2KTcmFFFFYCCiivnH/goV%2B0B8UPCGmeE/wBlX9mPUYrb4t/GPUZtL8MalJF5ieG9OhQPqWuyp0ZbWFhsUn555YVw2SK1o0pV6ihHr9yW7b8ktTSlSlWqKC/4ZdW/JLU539oD9qD42/tFfGTVf2I/%2BCf2r21hq2iMsPxY%2BMdzai5sPA6uM/YrWM/JeauyHIiJ8uAENLydo9e/ZT/Y7%2BCH7HXgq48KfCXRLmW/1a5%2B2eKfFuuXRvNZ8R3xyXu7%2B7f57iViWPOFXcQiqvFaX7L/AOzR8Lf2Rvgro/wM%2BEemSxaZpaM9ze3kvm3eqXkh33F9dSnma4mkLO7nqTgYAAHoFbVq8eX2VHSH4yfd/otl5u7Nq1ePL7KlpD8Zeb/RbLzd2FFFFchyhRRRQAUUUUAFFFFABRRRQAUUUUAFFFFABRRRQAUUUUAFFFFABRRRQAUUUUAfPH7WH7BenfF/xlB%2B0r%2Bzv42f4ZfHDRbby9H8faXbhotVhXBGnavbDC6hZNtA2v8AvIsBo2UjBt/saftoX/x31XXPgJ8efAyeA/jV4HijPjPwS1yZILm3Y7YtW0yVsG60%2BYj5XHzRMfLkAYAt75Xzz%2B31%2Byj4t%2BMugaP8ff2c7230b43fDCSTUvh1rcnyx34I/wBI0W8OR5lleIDE4JGxykikFDntpVY14qjWf%2BGX8vk/7vdfZ3XVPspVY1oqlVfpL%2BXyf93y6brqn9DUV5t%2ByJ%2B0x4R/a%2B/Z48N/H7wfp9xp6a1asup6LejFzpGoQu0N3YzggESwTxyRNkDOzI4Ir0muScJ05uElZrRnLOEqc3GSs1oFFFFSSFfI/iuw/wCHa3x9X4m%2BHl%2Bz/Aj4na/HB4y0teLfwT4huXCRapEOkVldSFY514WOVkkBAZlr64rB%2BKHw08GfGT4c658KPiLoseo6F4i0ubT9VspRxLBKhRgD/C2DkMOQQCOQK6sLXVGbjNXhLSS8u681un302bKi7PXY83/ag/5Ld%2Bzj/wBlmvv/AFCvFFezV8vz/DTx98G7X9kv4U/Ez4jDxbq/h74qXthJ4iNoYXvYYvBnipYGkUsxMohEau%2BfndWbA3YH1BWFSMYTcYu6T37%2BfzE9GFFFFQIKKKKACiiigAooooA5DwL%2B0H8A/ih4y1n4dfDT43%2BEPEXiHw67J4g0LQvEtrd3mmMrmNluIIpGeEhwVIcDDAjrVi1%2BNvwZvvinc/Auy%2BLnhibxvZ2AvbzwdFr9u2qwWpCkTvaB/OWMh0%2Bcrt%2BZeeRXzX8NfivpnxY/bf1b4p%2BLPhJ8RfCWk/CzSda8L%2BBdNuPg14hh/tr7VeWZ1HVmuhYfZ3gkltIEtYIpGZ41muXB3xiHmfB3w/8AiDF%2B1J4e%2BG8vwo8UQ69oP7TviTx7rXjOXw1dJpU3h280LU7e2kTUzH9mnkK3thp/2VZDMn2ZmMYjhV6APe/28P8AkiGh/wDZZvhx/wCprolch/wTui/4TbxD8c/2ir8ebd%2BMvjTqthaXX97TNHCaVaoP9kG2nce8pq9/wUL034rz%2BD/Bmo%2BHPGnh618LQ/GH4ejXtGvfDE9xqF458Z6N5bW94t7HHbBW2lg9tMWAIBTIIr/8EsZo4v2X9R8OvbJDeaL8UvGVhqUSFjtuE8QXzNncSdxDqx578ADArto6YGs11cF8ryf5pFr4H8j6PoooriICiiigAr5L/ZFs2%2BOv/BRL9of9qbWWFxbeCL7T/hT4I3jmzhtLaHUdWK/9db29iUt1ItFGeMD60r5U/wCCW7LYah%2B0l4Uu/lv9O/al8VS3cbcNsuks7yByPQwzx4P%2Bz7V2Yf3cNWkt7RXyctfySOqh7uHqyW9kvk5a/kkfVdFFFcZyhRRRQAUUUUAFFFFABRRRQAUUV8I/tN/8Fb/EXhf9sbRv2Wf2crXwjdR2%2BsDS/FGseL1u0ifUfOMZsYZID%2B5O5fKMzo6CSUbtiRu59HLMqxubVpU8NG/KnJtuySXVvX0XdnmZpm%2BByejGpipWUpKKSV22%2BiV16vXRfI9Y8df8FTf2d/hr%2B1xN%2ByP42sdU02%2BtZIYbvxPey2sGl20skCzjzJJZlKIEdQXx947QDwT9F6Fr2heKNIt/EPhnWrTUbC7jElrfWNys0MyHoyOhKsPcGvxf%2BPf7avxC/a7%2BPS%2BBLv4K/BLwLr097/Zur%2BK/E%2Bn6beCNoV8uRp9RvVkh8pdj7GjUsRtVGkO3PkP7S/gD9rP9n/wg37LPxc%2BIw0zRU1NNY1DwXpviq1uIt758pvJgkPlqSS5jxg5Ryi4DH7HMuC6iwFN4VJYm0b03UTU7ySlNStaKSfNb3tFbdq/y/DfGOBxeeTpZpWcMFep%2B%2BjRm3DlhOUKfs1K85TcVTTvBc0uaT5Iyt%2B5vjf8Aaj/Zv%2BHGgSeJ/G/x18J6dYxXk1o082uwHNzEQJYFVWLNIm5dyAFlyMgV84eIP%2BC0nwZ17Wrnwx%2BzJ8C/iH8U7%2B3ClZPD%2BgSR277s4%2B8GnXoesI9s1%2BOPg3xdrfgLxVYeM/Dclut/ptys9qbuyiuYt46b4plaORfVWUg9xX0h%2Bzt/wUB8cfs2eBdT8XfCf4nf2Lr%2Bo6xcHUfh5L4bFxoNyjRo0d5bhZEFlLv3o0afKVVSOAIx70vDzC4Km5K9eWlk24RvfryKUrW63t0dtz5KPiTi8fUUXahHW7SU5Wt9nncY3v0tfqr7H6//ALKXxy8eftC/ClfiF8RfgDr/AMN9ROoS23/CPeIi3nsiBcTLvjjfYxZlG9FOUJAIIJ6XwN8ZfhJ8TtY1fw/8OPiZoWv3ugTLFrdto%2BqxXL2MjFwElEbHY2UcYPOUYdQa/I%2B6/bK8dfFHw3aeO/2oP%2BCjvjy0EsUcj%2BCPhD4eME2yZ2X7NJcxvbWyyKgDlZDKduRkuMH9Lf2H/wBkX4Cfsn/ChLP4HaNq6p4kjh1DUNU8SoBql0GTdFHcARx%2BX5auVEWxdhZ8jczk/GZ7kNDKacqtVtSk7QjGMuRW%2BJOdSzlZbWjq3vY%2B3yDiDEZxVhSopShBXnOco87uvdap07qN3veWiW1z2iiiivkj7EKKKKACiiigAooooAKKKKAPk39mC1X4Af8ABTL46/s16ePK0D4gaFpXxW8PWUf%2Brtry4kl03WMe8lxa2s5H964Y/wAVfWVfKk7Lqn/Bb20%2Bwnd/Yn7K9yuplf4Te%2BJLc24b3IsbkgfWvquuzGazhJ7uEW/WzX5JHVi9ZQk93GLf3NfkkFFFFcZyhRRRQB4z%2B1B/yW/9nH/ss19/6hXiivZq8Z/ag/5Lf%2Bzj/wBlmvv/AFCvFFezUAFFFFABRRRQAUUUUAFFFFABRRRQB4z%2B3h/yRDQ/%2ByzfDj/1NdErjP2Tph8G/wBs/wCO37Mmo/uodf1i2%2BJfhMP1ubXUYkttQ2%2B0d/asSP8Ap6U/xV2f7eH/ACRDQ/8Ass3w4/8AU10SuX/b98CeNPCR8KftvfBvQZ9S8V/CG5nuNV0WzX97r/hq4VV1OwUfxyhES5hBziW3AAJeu3BNTlKhJ251Zf4k7x/HT/t4uGunc%2BjqKxPht8RvBfxe8AaP8Ufhz4gg1XQtf06K%2B0rULZspPBIoZW9QcHBB5BBBAIIrbrjlGUZOLVmiNgooopAFfIt9fj9j/wD4Kpy6vrTfZ/BH7T%2Bi2lpDfScRWfjXSIGjjgY8KhvdNChM8vJp%2B0ZLCvrqvNv2s/2YfAX7X/wM1f4IePrm6skvDFdaNrumyeXe6HqUDiW01C1kHMc8Mqq6kHnBU5VmB6cNVhTm4z%2BGSs/8/k0n966nRh6kITcZ/DJWf%2BfyaT%2B/uek0V80/sTftc%2BO9f8U337F/7YsFro3xy8G2QkumiTyrLxtpanZHr2mZwHjkwPOhX5reXcjKo219LVnWozoVOWX/AAGujXdP%2BtbpZ1aU6M%2BWX/Aa6NeT/rqgooorIzCiiigAooooAKKKKAPmz/gpj%2B2/4x/Yh%2BE%2BneKPBXw3TXL3Xprmxgvri5dIdLmEJMU8iiNhKN5B8ssm4KQG5yPyt%2BEnjv8AZe8eeHtT8f8Ax68ZeJdH%2BMMvjttZ0/xPpfhWLWbbUBK6ysLmymlWGRvPMp2qqD5lzvGVH7xyxRzRtDNGro4IZGGQR6EV5l4%2B/Yq/ZI%2BJ9yL/AMb/ALOfhC8uhKsn21NDihuGYEMMyxBXYZHQnB7jmvtOH%2BJMtyjBuhOhJTk7upCSUmle0WpJrl1s1s93rqfD8R8MZpnGNVenXi4RVo05xbim0ryTi0%2BbS6e62Wmh%2BR/if9j6H9oDx3eXPwi%2BIPxJ%2BKnj3W71rnWLa6%2BGR0KCykdiWkvLu5unjhBJ%2BVVQrxtBXgV53%2B1H%2Byf%2B0T%2BwvrH/AArz4kzxfZfE2jwS3F5ohnksJx5pcW5lliRWmRoskJnAb7xDEV%2B2v7TH7WXwu/Za0fTZ/G0Oq6prGvXLW3hvwt4c083epatMoBZIYVIyBlcsSFG5RnJAPjOu6j/wU2/ab8MX1kPgB8HvBfhHWIjE3hz4nS3eqahNAeQ00dsPJGeD5bqGUjB5Ga%2Bly7jHNXyVKtOEcPt%2B8nGLdrfA%2BVfDbRKnbvK%2B3y%2BZcFZSvaUqVScsTv8Au4Skle/xrnfxX1cql%2Bqjbf8AHHwb8RfD3hTwzeaBqPwe8N69PeXSS/2prEt%2Btxboox5URtrmFVVstuyGLbhyNor3ODwx8Zv2nPh5pvxn8OfsH%2BF08FeA7a6%2B1T/DayGmm9ljWNib6VpZrm5CBFZkQq%2Bx2KvGX3j9Iv2E/wDglp8KP2W9A1jV/iV4e8P%2BJ/FOvzSpdSiykmsLGyZ1ZLOCO6LsVBUEu%2BXbgEnbk/Qvwj%2BCnwn%2BAvhd/BXwc8Bad4d0qW9ku5bLTYdiPPJjdIepJwFAyeFVVGAoArNuPsuhXl9Touck1aTlJRaatKyUk1ppF2a3dl1jJ/DzM50I/XayhGSd4qMXJNO8LtxaeusldPZXfT4w/wCCdHwMg/bBstL/AG0/jXqRs5bHxW%2Bo6J4A8NeGl0PRrTUYQuzUGCfNqEhUoVnZmx8yFm2lR970UV%2BbZrmVTM8U6jXLFaRj0jHstFfzb1fVs/UMpyyllWEVJPmm9ZS2cpd3q7eSVkuiQUUUV5p6YUUUUAFFFFABRRRQAVBquqaZoemXOt61qEFpZ2cDz3d3cyhI4YkUszux4VQASSeABU9fFfx%2B8b6x/wAFPvitqf7D3wH1i5j%2BD3hvUhb/ALQHxE06YpFqjIQzeFNPmX/WSScC8lQ4hiJi3b5Ctb4eg60tXaK1b7L/ADeyXV/O29Ci60tXaK1b7L/Pol1fzt0P/BMqHUvjt4n%2BKn/BRrXbGaC3%2BMmv29r8PYLqIo8fhDSkkttOm2sN0ZupHu7wr3W4jPTFfWdVdC0LRfC%2BiWfhrw5pVvYadp1pHa2FjaQiOK3hjUIkaKvCqqgAAcAACrVLEVfb1nNKy2S7JaJfcvvuKvV9tVckrLouyWiX3L8wooorExCiivIv20/2k7n9mv4Otqng/R11nxz4lvo9C%2BHPhpTl9V1q4ysCEdoo%2BZpWJAWKJySOK0o0p16qpwWr/r7urfRJsaTbsit%2B1B/yW/8AZx/7LNff%2BoV4or2avl6f4UeJPgfa/sl/C/xn8QdS8V63pfxUvRrfiLVrySea/vZPBniqWeQNISyx%2Ba7hE6JGEQYCivqGlUjGM2ou6T37%2BfzB6MKKKKgQUUUUAFFFFABRRRQAUV4v%2Bxz8Xfjh8Srr4peDvj9e%2BFLvWfh/8TG8PW194P0W5sLW4tW0bStSQtFc3Vy5kVtQeMuHCuI1YImSK5L9if8Aan%2BLvxo%2BIXiPwR8e/E2iaPrtrc6xLpPw/Pwn1vw/qCaba6tJaQ38d9qN3JDq8DQ/ZWeW0hWNXuo8su9VIB1/7eH/ACRDQ/8Ass3w4/8AU10SvZq%2BeP8AgoX8XPhR4a8H%2BDPhR4j%2BJ3h7T/FPiD4w/D2XQfDV7rUEWoakkfjPRmka3t2cSTBVVixRSAFJOMGvoegD5Cv5Lz/glz8U7zXhbSv%2Bzl431lrjUBDGWX4bazcSfPNtH3NKuZGy2Plt5nJwqPz9cWV7Z6lZw6jp13FcW9xEskE8EgdJEYZVlYcEEEEEcEGo9a0XR/Emj3Xh7xDpVtf2F9bPb3tleQLLDcROpV43RgQyspIIIwQcV8nN4X%2BMf/BMe7kv/hloGs%2BP/wBnxpWku/CdmHu9b%2BHykktJYqSXvtNXJLW%2BTLAPmTeoZa9H3cwWrtV/Cfz6T9dJd1L4r%2BP1/P8A4J9dUVzvwp%2BLfw0%2BOXgLT/ih8IfG2neIfD%2Bqw%2BZY6pplwJI5B3B7qwPDIwDKQQwBBFdFXBKMoScZKzRGwUUUVIHkn7XP7G3wu/bA8I6fpvi671HQfE3hu8OoeBvH3hu4%2Bz6x4Zv8YFxazAcAgASRNmOVfldTgEeOeB/26fix%2ByR4lsfgT/wVIsLHSBc3C2fhX4%2BaNamLwt4lJOI0vuo0W%2BYfeilPkOwcxSYwtfX1Z3i3wj4U8feGb7wX468M6frOj6nbNb6lpWq2aXFtdRMMNHJHICrqe4IINdVLEJQ9lVXNHp3X%2BF/mno/J6nTTrpQ9nVXNH8V6P809H5PUu2t1a31rHe2VzHNDNGHhmicMrqRkMCOCCOQRUlfIUn7BX7Qv7IVzJ4g/4JkfG2303w%2BJDLP8C/ibNcX3hlsnLLp10pa70cnLEIhlg3MP3QArT8Jf8FV/hr4N8Q2nw1/bv%2BFviD9nvxXdSiC3fxzsm8O6jL/05a7BmzlHTiVoZOeUFU8G5rmoPnXZfEvWO/zXMinhXNXoPnXb7S9Y7/NXR9VUVX0nV9J1/TLfW9C1O3vbK6iWW1u7SdZIpkIyGR1JDKRyCDg1Yrj2OTYKKKKACiiviv8AaS/Ya/4KCzfFzVvjd%2BzH%2B35rcMd5qct9a%2BDvEuo3EVjp6EAiCNVMtvKgOVVXgQBdu5nbc578vweHxtVwq140tNHJSab7Xinb1asedmWMxOBoqpRw8q2uqi4ppd7Sav6J3PtSivz4/Zn/AGqP%2BCofxw8f%2BK/hBb%2BNfg/aeMvBTo2p%2BH/EWl3TJcwMF2zx3Fg7xspLgHacjcvHPHr%2BseE/%2BCsfxksX8EeKPGXwp%2BGuk3KmHU9f8Jpe3%2BqGMjDG2WfEceQSAWKup5BBFehiOH6uDrezr4ilG1m/fezV00uS8rrVWvfyPOw3EdLG0PaUMPVle6XuJap2ab57Rs9HzWt5nFf8FNPjf8KtN%2BJPww1f4N%2BJtM8RfGXwL4%2Btp9O8IaM7z31/Yyho7vT2eBHFuZAYyfNK4VWIBJwftmzlnuLOKe6tTBK8atJAzhjGxHK5HBweMjivO/2bf2UPgj%2Byr4KtvCPwo8GWltOlskeo65Lbob/U5APmlnmxucs2Wx91c4UAYFekVzZji8JVo0sPh03GnzJSla8lJ32WkYp3aV21d3fQ68tweLo16uJxDSlV5W4RvyxcVbd6yk1ZN2SfKrLqFFFFeSeuFFFFABRRRQAUUUUAFFFc38VvjH8JfgT4OuPiF8afiXoXhPQrUfv9W8Q6rFZ26nGdu%2BVlBY44UcnsDTjGUnaKuxqMpOyV2dJXO/Fb4ufDD4F%2BAtR%2BKXxk8faT4Z8O6VCZdQ1nWr5Le3hXsCzkAsTwFGSxIABJAr5nm/4KJfGr9p8nQ/8Agmh%2BzJf%2BLbGY7F%2BL3xKhuNB8IwD/AJ6wCRBe6qAQRi3iVDwfNxzWx8MP%2BCaek69490749/t3/Fi9%2BOPj/TZvtGjR65Ypa%2BGvDcvY6Zo6EwxuvA%2B0TGWc7Q29TXZ9VjR1xEuX%2B6tZfdtH/t5/9unV9WjS1rvl8lrL7tl/28/kcbfeNP2nv%2BCqCnw/8Ik8SfBz9nq641Lx5eW72Pirx5bHrFpcDgPpdjIvW8lAnkVl8tEBZq%2Brvg58Gvhd%2Bz58M9H%2BDnwX8EWHhzwzoNoLbStI02LZFCgJJPcu7MSzOxLOzMzEsST01FZVsQ6kVCK5YLZfq31fm/RJIzq13UioRXLFdP1b6vz%2B5JBRRRXOYBRRXmX7TH7Wnwk/ZY8P2d547vLvUNc1qY23hXwZoFsbvWNfuu0FpbL8znONznCJkFmUVdOlUrTUIK7fQaTbsjofjh8cPhh%2Bzl8MNV%2BMHxg8Uw6RoWkQ77m5lyzyMThIYkHzSyuxCpGoLMxAA5rxX9ln4QfE740/Fk/t5ftT%2BGJtH1yawksvhZ4AvSGbwbo8uN8sw6DUroBTMw5jQLCDwwpvwd/Zk%2BLXx1%2BJml/tWft3W1ouraRMbn4efCixuhcaX4OJHy3M7j5b7U9pwZ8eXESREOjD6YrtnOnhKbpU3eb0lJbJfyxfX%2B9LrstLuVNqKstzxn9qD/kt/wCzj/2Wa%2B/9QrxRXs1eM/tQf8lv/Zx/7LNff%2BoV4or2avPICiiigAooooAKKKKACiiigDxf4E/seax8CfGni/xraftZfErxHJ448Vw%2BINesfENp4dED3aWtvZkJ9k0iB0je3tLaJgHziEMpV2dm1Ph/%2By1B4T%2BNC/Hnxt8b/GvjrXrLQ77RvDv/AAlR0yODRLG8uLa4uobePT7K13mR7KzBkuDNIFt1Acbn3%2BqUUAeM/t4f8kQ0P/ss3w4/9TXRK9mrxn9vD/kiGh/9lm%2BHH/qa6JWp4Z/bA%2BDWtfGnUf2efEV7f%2BFvGFpdyR6bpHiuyNkdchU4Fzp8jHy7uJucBGLjB3IuK0hSqVU3BXtq7dF3/r52JlOMbXdrnqVFFFZlHzj8UP2HPEPg7x7qH7QP7Cfj%2B1%2BHHjbUZvtHiHw9dWrTeGPFknc39mhBhmbp9rt9soyxYSZqX4X/APBQTw5b%2BM7T4Iftf%2BA7r4O/EG6fyrCy8QXSyaNrzjjdpmpgCG4zlf3LmOYFgpjJGa%2BiawPiZ8K/ht8Z/Bt38PPi14E0rxHod%2Bm270rWbFLiCT0O1wQGHUMMEHkEGu6OLhVioYlc1tpL4l89pLyl8pIvmT0kb9FfLq/sgftNfsu/6Z%2Bwj8eheeHIeV%2BEfxYuZ9Q0yJB/yzsNRBa8sAAMKjmePJ5UAVe0L/gpT4H8D6tb%2BCv21vhZ4g%2BB2uzyiGG88WKtx4evJD2ttZt82zDHOJjC4zyooeBlUV8PL2i7LSS9YvX/AMB5kHJf4dT6UoqromuaJ4m0m31/w3rFrqFhdxCS1vbG4WWGZD0ZHUlWB9QcVarhaadmQFZ/inwp4W8c%2BH7vwl428NafrGlX8JivtM1WzS4t7iM9UkjkBV19iCK0KKabTugTad0fN3gj/gl1%2Bz38E/inpvxQ/Zc8U%2BNfhRDbaul9rHgzwP4nki8N62A%2BXhuNLnEttGrDK5t1hcZyGBrmf%2BCrX7aJ/Z98F%2BHPgR4Gs/ENx42%2BJetWenaUnh%2BZbWSK0e6jSdhdv8tu7qTEr8lDJu4wDX1vXnX7R/7Jf7Ov7W/hNfBf7Q3wp0zxLZRBvsrXkZWa23YLeXKhDoCVUkA4baMg4r0sFi6DxsKmOvOC%2B/yvs2k7XV7taJojG1sfVpqVKXvq2stdL66tPW2zkpJNK6auj4e%2BBPjz/grrefsseOfHnwDsPBY0PTdV1ZvAeia5q%2BpeJtdkijVQlrbXk8rRXkayh443kkYEqwztCgWdP%2BLX/BVLxN4K8L6T4E/bK8Da94t8Wa5e6LbaZN8Nf7Fl0m5sraWe9OpC4WVrUw%2BWqkLCzFp4dsZVt9bHwG/Zt8N2n7anir4C/ssfE74i2vwz8NeGoLPxvfWvjq4ji0rWUffaQ6e6Ny6IDHJGwZAplVwSFB958WfsD3mj6XoVx%2Bz18ZJ/Dev6Ydf/ALT8Q%2BJ9LbWp9Uk1lYvtt64E8AS9DwxvFJ80MY3J5DIQq/QY7F4fBYlJQpe8lJXpapSTaU1Jyd9n3aaezPOyyODzbD1JV51E%2Bdp3qOzcUou0oKHut78qXvcy6afNnh7TvhnrfhDwn4y%2BKv7cf7UZ13xNolnq3ipvDXicxWPheO5uHtUkvVihZLOA3EU8QIJA8iRiFVSR9Av/AMErPhP4idbP4v8A7Rfxs%2BIOkg5bQPGfxImns3PqVhSJvyYVzHi39gz4j2GteJvgd8PNF01vhz8Qbbwvaa74pvNeZdQ03S9J2Lc6b9mEOJvtKpMRKHAD39wWUALn6U%2BO2i/HTXfhvd6d%2Bzj478PeHPFZniex1PxToMupWSoHBkR4Ip4XO5cqGDjaTnBxivPxGdY7mj7Gvy37KCsum1NONttHeyubVuG%2BHm4qFNO%2B/NKcl/28nNr1TT2u1qUvgn%2By1%2Bz1%2Bzil0Pgh8JdH8OyXsaR3lxYwEzTopJVXlcl2AJJwT1rvq%2BVftv8AwW28OfNNoH7L3i2NPvfZ9R8Q6HLIPZWjvVB%2BrYqS1/aO/wCCrWkyG28Sf8EzPBephI3Y3fhv4/w4kYKSFEd1psRGSABlsc84ArzK1HE4mo6k6sZyfVzu/wDyazPTo5bTw9NU6HIorpFxS%2B60T6mor5V/4bR/4KF2J/4nP/BHjxmyjq%2BlfF7wtcD8A95G36Uv/De/7YEIxd/8Eg/jErdxD4s8LyD8xqdZfUcR05f/AAKH/wAka/U6/l/4FH/5I%2BqaK%2BVv%2BG8f2zLj5dO/4JAfFxm7C58aeFoR%2BZ1I0n/DYv8AwUevv%2BQV/wAEffEEIP3W1n41%2BGoB%2BPkzTEflR9Rr9eX/AMDh/wDJB9Tr9bf%2BBR/%2BSPqqivlU/Hf/AIK8%2BJ/3Ph//AIJ6/CzwyTws/in48S3QHuUstJb8gxo/sn/gtn4o/cXvjT9mPwbE/wB%2BXTtE8Qa7NGP9kyzWaE/VaPqcl8U4L/t5P8kw%2BqNfFOK/7eT/ACTPqqivlP8A4Yx/4KF%2BM/3PxX/4K0%2BIbW1k/wBfZ/DX4UaLopA9Enu1vZVx67vfFB/4I%2B/s3eLef2hvi58afi2P%2Bff4h/F7VJbXP/XpZyW1vg/3fL2%2B1P2GFj8VW/8AhjJ/nyoPY4aPxVfui3%2BfKj1D45/t8/sT/s0Rzf8AC9/2qfAnhm4g%2B/p2o%2BJLf7aT3C2ysZnPsqGvK/8Ah6jb/FEfZf2Mf2L/AIyfFtpuLLXU8KHw3oMp9TqGtG2BX3jjk9gcjPrvwR/Yd/Y4/Zs8qT4Dfsu%2BA/ClxEPlv9G8L20N03u1wE81z7sxNep0c%2BBp/DBy/wATsvujr/5MPnwcPhg5ersvujr%2BJ8mnwT/wV4/aHOfGvxb%2BG/7Pmgz/ADHTvAunP4q8QhDwY3vr5IbKFsfxR20uOoPp0Pwr/wCCVH7JHgXxjb/Fb4maLrfxc8c23MXjf4x63J4gvYTnIMEc/wDo1pg9Ps8MeOg6CvpGilLG17csLQXaKt973fzkJ4utblhaK/uq33vd/NiKqqoVQAAMADtS0UVyHKFFeceLv2s/gB4U0Hxjq8HxJ0vWbnwJp8134k0bQtQhub22EQG5DGHG1wWVTuKhWdd5XOa868YftT/EXxnrPhn4ReFLCT4ZeLNY8XHR9dPinTINTbTM6bd31sIxBcCGX7SLSREkDsoMcibd5Sumng8RU6WXnp0v67dk%2BncpRbPoyqXiPxJ4d8H6Fd%2BKPFuvWWl6ZYQNNfajqN0kEFvGOrvI5Coo7kkCuQ/Zv%2BLWsfGP4ZDxB4r0a303X9M1jUNF8R6dauWigv7K7ltZTGW58tzEJY8kkxyocnOa8%2B8S/wDBP7wB8YPivefE/wDaj%2BIPiD4m2ceqtdeF/A/iGWOLw9oce7MaiwgVY7uRQdvnXPmkjHAPNEKNKNWUa8uW3ZXb8lsvm3a3fYElfU5jUf20/jB%2B1PeTeDP%2BCdHgGHUtL8xoNQ%2BNfjG0lh8OWWDtc2EXyzavMuGA8vbAGC7pSDiu%2B/Zu/Yp%2BH/wF8QXnxX8TeItT8e/E3WYBHr/xJ8VlZL%2BdOpt7dVHl2NqCTtt4QqgY3FyAa9hsrKz02zi07TrSK3t4I1jgggjCJGijAVVHAAAwAOlS1dTF2g6dGPJF79W/8Uv0Vo%2BTBy0stAooplzc21lbyXl5cJFDEheWWVwqooGSSTwAB3rjJPHP2oP%2BS3/s4/8AZZr7/wBQrxRXs1eFfHjxV4Y8b/FD9mjxX4M8RWOraXe/GO/ez1HTLtJ4J1/4QvxSNySISrDIIyD2r3Wm007ME0wooopAFFFFABRRRQAUUUUAFFcz8LPjT8HPjnol34m%2BCfxZ8M%2BMdNsNSk06%2B1Dwtr1vqEFveRhWkt5JIHdUlUOhaMkMA6kjkUng742/Bn4ieL9d%2BHvw/wDi54Y13X/C04h8TaHo%2Bv291eaRISwCXUMbs9uxKsAJApyp9DQBwH7eH/JEND/7LN8OP/U10Su5%2BM3wI%2BEH7Qvg%2BTwH8Z/h/p3iDTHbfHDexfPbydpYZFIeGQdpI2Vh2NcN%2B3h/yRDQ/wDss3w4/wDU10SvZqqE505KUXZrqhNKSs1ofNi/C/8AbU/ZU/e/Azxp/wALi8Fw/d8EePNTFvr1lH/cs9VI2XIHaO7XOFA86uw%2BDf7c3wI%2BLficfDPU7/UPBXjlQPP8B%2BPLE6ZqgJ/55JIdl0pxkPA8ikc5r2OuS%2BMXwG%2BDP7QXhg%2BDvjV8NNI8S6eCWih1SzV2gY/xxSffhf8A20KsPWuz6zRr/wAeOv8ANGyfzXwv/wAlfmY%2BznD%2BG9Oz2%2BT3X4o62ivnFf2Vv2nPgL%2B//ZE/abnvtJi/1Xw/%2BLvm6tYqvQR2%2BoIRe2ygcKGM6j%2B7jinj9vXWvhMfsP7Zv7N3iv4crHxJ4q0yE694eYdA5vLNTJbg9cTwx4HU8E0vqUqmtCSn5LSX/gL1%2B5yH7ZR/iLl/L71%2Btj6Lqrreh6J4l0m40DxHo9rqFhdxGO6sr23WWGZD1V0YFWB9CMVj/DP4vfCr4z%2BH18V/CT4j6J4l01sf6boepxXUak/wsY2O1v8AZOCO4roq5JRnTlZppr5P9DVNNXR8261/wTJ%2BEPhfV7jxf%2ByZ8QfFvwP1qeQzSD4eamE0i5l7GfSbhZLKRR6LGh/2qrjxT/wVF%2BBB8nxR8N/Anx10WH5RqPhS/PhnXSo6u9pdtJZytj%2BGOeLPoO/01RXWsfWkrVkqi/vK7/8AAlaX4s05311Pm/Sf%2BCpn7MGl6lD4c/aAt/Fvwc1ed9kdj8V/C8%2BlQue5S9w9m6%2B6znP51734N8deCPiLocfif4feMtK13TZv9TqGjajFdQP9JI2ZT%2BBq7qukaVr2nTaPrmmW97aXCFLi1u4VkjlU9QysCGHsa8G8Y/8ABLr9iPxLrcni/wAMfB4eBdffldf%2BGerXXhy6R/7%2BdPkiR26n51bk560Xy%2BpupQfykvx5Zfiw9x%2BR9A1neLtEuvEvhTVPDljrE2nT6hp09tDqFsSJLV3jZRKmCPmUncORyK%2BaPGP7N/7S37O3he98a/D3/gqDr%2Bn%2BHtJga4vIfjN4d0/XrWNB2e7UWtyq9gTIx5H3jXhmm/tj/wDBSr9rX4WeNfhZ8Nf2aNB8Y6Vq2i3Onab8TPC0174dtJhLGYzNBHqkgLsM8KsvB68V3YPJq2KftaNSPJFq8n7qjqt%2BdJN9eVNt22PMzHMMJgqbhJ805J8sI3c5aPZJNpX05nZK976Hrn/BJDxSvh/wX4w/Zdj8DaWX%2BG2vvaX/AI78NTGXTvEl1IzM0hkf5muVUKHGWAG0fKNq19f18Zfs1ftLar%2ByH8DPDPwS%2BJP/AATt%2BM/hmTQdIgg1bUfCvg%2B11yxursRqJ7svpdzPITJIGckoT83U4rv7D/grT/wT/ku00zxP8e18K3jna1n438O6jojo390/breJePYke9aZxQxGNzOrXo0m4ye696/Ry91ytzNc1tkmktETkuBxOCyqjQq6uK6dFuo6b8qfLd6tpt6s%2BjqK898Gftb/ALKnxGCH4f8A7THw/wBcL/dXSfGNlcE%2B2I5Sc%2B1d/b3NveQLc2lwksbjKSRuGVh6gjrXhzp1KbtOLXqmvzSPTaa3H0UUVAgooooAKKKKACiiigAoqprGvaH4dtDqHiDWrSxgXrPeXKxIPxYgV5l42/bx/Yl%2BHIceN/2uPhvp0ifet5/Gll534RiUufwFaU6Naq7U4t%2Bib/JMaTex6xRXzY3/AAVl/Yv1gm3%2BF3ibxZ4/uj/q7XwB8OtZ1Uyf7skNqYj/AN90h/bh/aM8a/L8Ef8Agml8VL8f8/XjvUNL8MwfXE9zJPj/ALY7v9mun%2Bzsavihy/4mo/8ApTX5Fckux9KUV81b/wDgrP8AEn7tv8EfhZZT93fUvFGo24%2BgFlblv%2B%2BgfakP7A3xZ%2BIX7z9pH/goN8WfEytxLpXhC5tfCmnyL3Rk06MXDL25uCcdSaPqlKH8StFel5P8El%2BIcqW7PpQSxtI0SyKWUAsoPIz0z%2BVeLfCvxX8QPhd8e/F/wf8AjR8WLzxDY32jQeKfCmtazaWlqILYSG1vbIGCKKMRwP8AZHBYFyLz5mY11H7Pn7KnwD/ZY0nUdH%2BBXw/TRU1i4SfV7iTULi7ub6VFKrJNPcySSysASMsx61oeJP2ePgl4z%2BKenfGvxn8NtN1jxPo1obbRdV1aI3J01CSWNskpZLd2z80kaq7AAMxAAERnh4SnHVxa0dle%2Blurtre%2Buwk4q580W3wS8TeJ/FPhL4OXHw71S/06z8R%2BIZJfHFnsbS9R8Jaut1PKpuUJAuWuPsT%2BXtO6SLfjaSw9I8B/sc%2BLtbn1Of8AaT8a6brkp8P6RpGj3vhuC4sbpJNOeSSLVmlMhaK9MkgP7s7E8sYzvYV9BdOlFa1MxryVo6fnve9%2Bl%2By0G5s534XfC/wt8IPCEXgzwkb6S3W4mubi71TUZbu6u7iaRpJZ5ppWZ5Hd2ZiScDOAAAAOiorzz41/tY/s4fs6xqPjL8YtE0S6lx9n0qS582/uM9BFaRBp5SfREPUVyxjWxFS0U5SfbV/gZynGKvJ2PQ6jurq2sbaS9vbiOGGJC8ssrhVRQMliTwAB3r53b9qL9qv44D7L%2Byt%2Byjd6Rp0vEfjf4xyPpFoB2eLTo917cKRyN4gB9R1p1t%2BwPc/Fa5j1v9tn46698UZFcSL4VjH9keGoGByoGn2zZuNp43XMkuR1Aro%2BqRpa15qPkvel9ydl85fIx9s5fw4389l%2BOr%2BSLPin/goD4P8AEevXPw8/ZE8Aap8Y/E1tIYrpvDEqxaJp0n/T3q0n%2Bjx9/ljMsnGNmaz4P2OPix%2B0TcR69%2B3p8V49a07eJIfhV4Jeay8OwkHIF1ISLjUyCAf3pSLIP7rBr6C8MeFfDHgnQbbwr4M8OWGkaZZRiOz07TLNIIIE/upGgCqPYCr9P63Gjpho8v8Aeesvv2j/ANuq/wDeD2Tn/Ed/LZf8H5/ceGfH7w54e8IfFL9mfwx4T0Kz0zTbH4wXsNlp%2Bn2yQwW8Y8E%2BKMIiIAqqPQACvc68Z/ag/wCS3/s4/wDZZr7/ANQrxRXs1cTbbuzfYKKKKQBRRRQAUUUUAFFFFAHyr%2Bwt8UvDUPxZ%2BO2nQ/C/4i6FaeIPjLb33ht9b%2BD3iHSbW6sm8O6JYrNHJdWEUYjFxY3KE5AQRhmwjozcR%2Bwp8P8A4g6X8YfhT4Y1b4UeKND1D4T/AAz8Y6D8Ste1nw1dWVnqep3%2Bs6XNC1rdSxrFqa3L2d3fedbvKsYceYUkmK19w0UAfPH/AAUL034rz%2BD/AAZqPhzxp4etfC0Pxh%2BHo17Rr3wxPcaheOfGejeW1veLexx2wVtpYPbTFgCAUyCNrxyn7c/wy8Y6l4s%2BH8vhf4neF7u7eeHwjqAGi6tp0ZPENtdruguFUf8APdUY9N/ep/28P%2BSIaH/2Wb4cf%2BprolezVpSqezeyafRr/hmvkzGvR9tFJScWtmnb/NP0aaPEvBv7fPwK1PX4fAvxYOrfDHxPMdqaB8RrA6aZm6fuLliba4BPAMcrE%2Bgziva4ZobiFbi3lV43UMjo2QwPQgjqKzfGPgjwZ8Q9Bm8K%2BPvCWma3plwMT6dq9jHcwSf7ySAqfyrxaX9gnQ/AEz6l%2Byj8afF3wrn3F10nSr3%2B0dEZz1Ladeb41B/6ZGL2Ira2Eq7Nwfn7y%2B9e8vuZzXzChulUXl7svud4v5OJ77QQCMEZB6ivAR8Q/wBvr4Qfu/iF8EvDPxR0uLrrHw91T%2BzNSCDqz2F8xjdyOcR3H0Har/hv/goX%2BzJfavF4W%2BIniXUfh1rkpwNF%2BJWjzaLLn0WS4Agkz22SNnt1FDwddq8FzL%2B67/gtfwGsxwqdqjcH2muX8X7r%2BUix8Sv%2BCf37K3xJ8QN45h%2BHJ8LeKDkp4t8B382iakrn%2BMzWbR%2Baf%2Bugce3Fc6Pgb%2B3p8IRn4K/tZaV4706PiHQPjD4fBnCeg1PThHIW95IJPfNfQOlatpWu6fFq2ianb3lrOm6C5tZlkjkX1VlJBH0qxVRxuJiuWb5kuklzfnqvk0dHsaT96OnmtPy0f3HzuP2xvj/8Nv3P7Rv7CvjWyiXhtd%2BG91D4nsmA6yGOHy7uNe%2BDASPfrXvuga3ZeJdBsvEempOtvqFpHc263Vs8MoR1DKHjcBkbBGVYAg8EAirdc/8AFX4h%2BDPhP8OtY%2BInxC8Wx6Fo2lWTzX2rSKG%2BzL0DKu1t77iAq7WLMQACTgxNwxEoxpU7Sbto2732snf8Gwv7GDnUn7qV7uyslu29NPU5j4OfFTxx4u8W/EXQvH1lodvY%2BDfE66fY6npk8oSWFrKC7ImEvCyRpcRqzKdpOSMYxXgWr/8ABYLwH4vh8S6V%2BzR%2Bz7478c3ugzXEI19LCCDw6oizuuptQ85hDbgAvvdV%2BUc7R81ea/Cj4Zftb/tj6D4l8BeHPFet%2BH/g34q1%2B61jWfGnijQodM17xaJo0U2sUUHyxWr%2BWg87y1zEQuGw0Z9Yuv2PfiF4S%2BHHi/TvA/wf8I%2BF9MvPDWmaYPAfgTVWnh1nyL1Zrq7eSe3tlNw9r5kKq4y7FvMlIbcPoXgsrwFVrFWnPT3FK0Y/DfmtduTd/dTXLb3mm7Lwo4zH5lC%2BFbhTs/fcbuW/wKVkkla02nzN%2B6mld4nws%2BBOpfti2Vp8b/23f2mdL8XaDoV/5h%2BHGiWDaZoOl3oClVu/P2y3RUOpUSgAhxhnR8N9l6dBp9rp8FtpMMMdrHCq20duoEaxgAKFC8BcYxjjFfJPjexkg8eaV8Zf2iPBF3o/gjxL40vNQ1jQNU037Wc2umG00xL2GASKWlzLLg7lVobZCd20D3L9knw14q8D/s1%2BFtF8c6W%2Bn38OnPPJpRj502KSWSWKzCjp5ETxwhe3lYrgzSrVxFOM5S91aRiklGN90lHS6a1erel5Nndl2EoYOUlBNyfxSk25SttdvW3ZaJa2ij0qob/T7DVLR7DU7GG5gkGJIZ4g6MPQg8GvA4v%2BCo37FFpItr4y%2BKGoeE7nOHtvGXhDVNKKH0LXNsifkxrt/Cf7Z37IfjsKPB37UXw%2B1F36Q2vjCyaQexTzNwPsRXnSwWNpq8qcl8n%2BaT/M9BV6MnpJfeiHxn%2BxD%2Bxn8RC7%2BOv2T/hvq0j/AHp77wVYyS59Q5i3A%2B4NcDcf8Ejf%2BCdrzPc6V%2BzZZaNI5yX8Na7qOlHPt9juIsfhX0LpOt6Lr1qL3Q9Xtb2E9JrS4WRT%2BKkirVOGNx1JWjVkv%2B3pflf9DdTlbRnzb/w65%2BBmm8eBvjL8bvDCj7qaF8bddRV%2BgluX/Wj/AIdy39txo/8AwUC/aSswOg/4WNBc4/8AAqzlz%2BNfSVFV/aOO6zv6qL/OLHzz7nzb/wAMGfGa040j/gpr8dkA6fbZ9CuD%2BbaYM0f8MTftNpxB/wAFRPi0B/000Hw8x/P%2Bzq%2BkqKP7QxXdf%2BAw/wDkA55f1b/I%2Bbf%2BGI/2lJeLv/gqF8XWHfydF8PRn8xp1H/DAXxSvRjW/wDgpf8AtAyeosdV0S2z/wB86WcV9JUUf2hi%2BjX/AIDD/wCQDnl/Vv8AI%2BbT/wAE3oLr/kN/t2ftJXoP3h/wtZ7XP/gJDFj8MUf8Oqf2XdU/5HzxL8VfFWfvf8JF8Z/EMob6hLxAa%2BkqKP7Rx3So16WX5RQc8%2B5876P/AMEm/wDgnLo92L9v2SvC%2BpTj/lt4gSbU2P1N3JJn8a9N8E/sufszfDRkb4c/s7eBdAMf%2BrbRfCVnalfoYolru6y/EfjnwT4PiM/i3xhpWloBkvqOoRwDH1dhUTxeNr6SqSl5Xk/wv%2BhLnK2rNQAKAqgAAcAUV5F4u/b%2B/Yg8DBh4l/a0%2BHsMifft4PFdrPKP%2B2cTs/6VzB/4Kc/st6x%2B7%2BGQ8c%2BOZv4YfBfw11i%2B3fSQWwjP4PRHA42auqcrejS%2B92X4mLr0E7OS%2B/8A4c%2BhKK%2Be/wDhsj9oDxbx8I/%2BCdvxMvB/z8eM9R0vw/F9cTXMkuP%2B2efakOr/APBUTx189h4N%2BDPw9tpeCNT1bUfEN5CPXbDHaQkj/fI9qr6jVj8cox9ZR/JczF7eD%2BFN%2Bif62PoWqXiDxJ4d8J6XJrnirXrLTLKEZmvNQukhiQe7uQB%2BJrwf/hkX9prxxx8av%2BChXjaWA8mw%2BHmgaf4djB7jzQk9xj/tqD6EVc0D/gmh%2Bxtp%2BqR%2BIvGPwsl8cashy2rfEbWrvX5nb%2B8RfSyRg/7qAUexwcPjq3/wxf5y5V%2BAc9aW0ber/wAri%2BJf%2BClX7H%2Bl6rJ4Z8EfEifx9rScLonw10a51%2Bd2/u7rJHjU/wC86is8/tC/txfFY%2BV8D/2MIfCllL/qfEHxh8TR2hUep06w8%2Bcn2d4/w7e8%2BG/C3hnwdpMeg%2BEPDlhpVjCMRWWm2aQRJ9EQAD8BV%2Bn7fCU/4dK/nJ3/AAjyr8WHJVl8Urei/V3Z87H9kT9o34r/AL79pv8AbY8SS2knzSeF/hbYp4bsRn70bXCtLezJjj/XJn0659C%2BCv7If7NH7PEjXnwf%2BDWi6Rfy5%2B0a0bc3GoTk9TJdzF55M8/ec9T616PXnl/8b9f0T4pad4I8SfCfUNP0fWtYk0rR/EM%2Bo2zfartbeW4/490YusTJBLtcncShyijBpPE4uvFwTtHsrRX3K1/nciSw9BqUt27Xd3%2BOtvwPQ6yvGHjfwv4C8NX/AIu8V6qLaw02MPeypE8rICQAAkYZ2YlgAqgkkgAHNeG/EP4tfErwp8SPFnjUfECeHS/B3iXSLO78JS20H2WbSLyK3SS7DiPzvNEs/mB/M2qsLJs6k%2BXeGPhudSjtfgd8N9ukeOxpN9H4wjNsYlfUtMvFutN1e7CgCQz3AU%2Bfg%2Bcksq5O3Aungk1zTlpp/m7/ACa113OKtmbjJwpwu9Vr1eqVu%2Bqejadl93174B%2BIvhH4m6I2v%2BDtSeeGOdoLmKe1kt57aZQC0M0MqrJDIAyko6hhkZHNeb/E79qzxFo3ji/%2BEvwP/Z48XePPE2nMiX0iWv8AZmj2TuiyKJtRugsZOx1bEKynBxjPFanwI8OeO4/H/jr4keLvA914Yi8T3mnyR6Jdalb3Ja4t7QW8t2GgdlUSKkEYBIYrbqzKpYqPT6wfsaNV3XMvXr523tto0dS%2BsYjDq0uR3d3bW12tFLa%2Bj1Tt22PAfjDcePLrx5%2BzDc/E/TNLs9ff4vXp1S10S7kntYpf%2BEK8U/LHJIiMwxjkqOc179XjP7UH/Jb/ANnH/ss19/6hXiivZqwbu7nXFcsUr3CiiikMKKKKACiiigAooooAKKKKAPGf28P%2BSIaH/wBlm%2BHH/qa6JU3jK1/bY8EeK9Q8R/D/AFPwb478P3F081v4Y1iGTR9Qs4ieIIbuPzYpcD%2BKWNSe7esP7eH/ACRDQ/8Ass3w4/8AU10SvZI5YpQTFIrbWKnac4I6j61cJ8j2T9TmxWGWJilzyg1qnF2f5NNeTTR4jD%2B3T4H8Iyrp37Rvw18XfDG63BGuvEmkGfTHf0TULTzYCPd2T6dK9a8G%2BPPA/wARNHTxD4A8Y6XrlhJ9y90jUI7mI/8AA42IrUmhiuImgniV0dSro65DA9QQeoryXxj%2Bw1%2BzP4r1h/FWl/D/AP4RbXWyV1/wPfTaNeK394vaMgc/74arvQlunH8V%2BNn%2BLOLkznD/AAyhVX95ezl98eaD%2BcYnrlUfEfhfwz4x0iXQPF3h2x1WwnGJrLUrRJ4ZB/tI4Kn8RXjn/CkP2u/hx83wi/aui8RWcf8AqdF%2BKPh5LskehvrMwTfiyv8Aj39J%2BEmqfF/VfDEj/G3whomj6zDePEsfh7V5Ly1uYQqlZlaSKN48sWGxgSNoOecBShyLmjJP70/u3NqGMnXn7KtQnB26pSi/%2B3otr5NK/Y8y1T/gnX%2BzbbahLrvwls/EHwz1OZtz33w18R3GkqT726MbZh7NER26VCPg/wDt5fDj5vhr%2B1Z4e8aWqfLFpnxN8ICOUL6G901oiT/tNC3vmui8aa94hl%2BPuh6R8MfHmsXt19sjHizQ0WKXS7DTlikLSSsY90M7P5YRVk3sTkoUViPO/wBqj/goBrf7PHx/0/4LeGvhrN4u1C%2B0y2uLTw1pFjcvqd%2B0rzBnhdVMKxxrFlt3PzegOO/D/X8XUjSh77avaST0XnK1l58yXmeXicRlGCpzqzTpJTULwbSbe1lDR9muVtPSzehuah%2B1D%2B1P8KrCbU/jt%2BxXeXGm2UTPfa/8OvF9nqUKooy0n2e7NrMigZPRsAda%2BaPi5%2B3h%2BzX%2B3N8b/AfgfxR4um8M/Bvw/dnW/E194stDaweINTiIFtp24Fk8tC2995CsMjqEJ6fRbT4lft6/E201v9ufQLnwV8LrWwv73w34D0/WgbPVZbKfZdS6ldRSK7mHAKrsSNlBZDhX3/Xfwa1r4KeJvAv/AAiXwi0a1ttB0dVs/wCxRoUljHbIUDqot5o0OxlYMGC7WDZBPWvUVTA5R76jzV7PWD9yF01dN8ylNa2taMW920mvOpzxWev2ca1qDekakVz1OVp2aXI403pe95SXaLaen4D%2BLvwk%2BJ1qtz8Mvid4d8QQ7Mq%2Bh6zBdLj/ALZM1dHXk/jr9hT9jn4kXBvvFf7NvhF7stuN/Y6PHZ3JPr51uEkz77q53/h394G0D5fhP8fPi94KiX/VWmifES6ubZD/ANcb/wC0Jj8K8Hkwctptesb/AIxf6H0/tMxh8VOMv8MmvwlH9T3qivBh8Af22PDPPgv9vBdTij/1Vp41%2BG9jdbh6NNZvbP8Ajgmj7f8A8FMfDnz3Phz4KeK4k6rZ6lqujzSD2EkdygP/AALFH1aL%2BGpF/Nr81%2BofXZx%2BOjNeiUv/AEmX6Hu8sUc0bQzRq6MMMrDII9CK4jxZ%2BzF%2BzX49LHxz%2Bz34H1kv986r4Ts7gn8ZIzXn/wDw0V%2B2ZovPir/gn3fXMa/6ybwt8SdLvPxCXH2Zz9MUf8Nzahp3yeLP2LfjnprL/rGh8ER6gg%2BhsriYkfhVww%2BLg703/wCAyX6SQnmGCa9%2B6/xQkvzgw1b/AIJgfsA6tcm9/wCGWvDNjMekuiRS6ew%2BhtXjx%2BFVf%2BHZX7Munc%2BDNT%2BI3hsjodB%2BLWvQ7foGu2A/AVb/AOHj/wCzPYfJ4vXxz4dfvHr3ww1uDb9SLRlH4mpLX/gpf%2BwjdTC3l/aW8P2kh/5Z6n51ow%2BomjUiujnztLeb%2B9//ACRl9bya/wAcF80vz5SgP%2BCfVpa8aL%2B2d%2B0FZAfdA%2BKEtzj/AMCopf1o/wCGH/idY/8AID/4KIfHCL0F9f6PdY/7704V1%2Bm/tz/sW6uB9h/az%2BHBJ6LJ40so2P4PKDW3ZftP/s1akAdO/aG8DT56eT4ts2z%2BUtQ8Rma%2BJP5wX60zaNTLpfDOPymv/kzzb/hkf9p%2B3407/gpP8RVA6fafC3h%2Bb%2BdiKT/hln9sZeIv%2BCmXjAD/AG/h34cb/wBs69cg%2BNvwYuhm1%2BLvhiQf9M9ftj/J6sL8Vvhc4yvxJ0A/TWIP/iqj63jFvFf%2BAR/%2BQNFHCvaX/k3/ANseN/8ADK37YMnFx/wUx8Zkf9M/h/4dT%2BVnS/8ADH/7SF1xqn/BSP4nOD1%2ByaDoMH8rA4r2J/i18K4hmT4meH1Hq2swD/2eqlz8d/gfZgm8%2BMvhSIDqZPEVsv8AN6Fisa9or/wCP/yANYVby/8AJv8A7Y8n/wCGFfHF582t/wDBQb48znutrr%2Bl2qn/AL9acCPzo/4d4%2BGrzjxB%2B1h8fdTU/ejn%2BLd7CjfVbbyhXol9%2B1d%2By3pYJ1L9pPwBbgdfP8Y2KY/OWsLVP2%2Bv2ItIBN3%2B1n8PWx1Ft4stZj/5DdqtV80l8Kfygv0pmUquWw%2BKpH5zX/yZzH/Dr79j%2B%2B%2BfxX4b8W%2BIJD95/EHxL1263fVWvNh/75rU8Of8E1/2BvC8om079kfwLO4Od%2BqaDHfMT6k3AfJqu/8AwU0/YYLmOw/aAsNRYHG3R9Lvb0/gIIXzTf8Ah4n8DtS48EeBfij4mJ%2B7/YXwo1l930Mlsgq3LOmrNzS9Wv1iZLF5OnpOD9LP8lI9T8I/BX4N%2BACp8B/CXwzohT7h0jQbe22/Ty0GK6avBj%2B2p461j914I/YT%2BM9/IfuNqmjWGlxH6tdXisPxWj/heH7d2u/uvD37C%2Bl6Rv8Au3Hir4qWi7Pdo7KC4z9A1c0sNiZO82vnJf8AyTZqswwiVoKT9ITf/tqR7zRXg39m/wDBTDxL%2B6u/FHwW8JxP1ex0zVNYnjHsZJLZCfqtJ/wy9%2B1J4o/dfEn/AIKB%2BKvIb79v4J8I6Xo%2BP92R47iUf99mp%2Br018VWK9Lv8l%2Bo/rlWXwUJv15Y/nK/4HvVcJ8RP2of2bvhIJB8TPjx4R0OSPO621HxBbxzE%2BgjL72PsATXAf8ADuf4Ba58/wAWPEnxA8fP/wBTn8Q9SuY/%2B/McscOPbZj2ru/h3%2Byn%2BzN8JTHJ8NfgD4P0WaPG26sPD1uk%2BR3Muzex9yTRy4OO8pS9El%2Bbf5Bz5lPaEY%2BsnJ/dFJficGf%2BCifwY8R/J8FfAPxF%2BI7dBJ4M8CXj2%2Be2bm5WGDH%2B15mPej/hbf7fXxC/d/D/APZT8MeCrduY9S%2BI/jQXEm31NppqSYPsZl9Dive6KPbUI/BTX/bzb/D3UH1bF1P4lZ%2BkUo/i%2BZnDfBHwt8ffD1nqF18ffizoviW9vZY3s7bQPDJ06201QG3xoWmlkmDEg7nII29Oayvid8K/i/4x%2BN3hvx14V8ZeHNN0Xw/pdwkcepaNPeXQu55EWWWMLPFGp%2BzoY1dt%2B3zZDsORXYeOfip8MfhjZ/2h8SPiLoegQbdwl1nVobVSPYyMM15fP%2B378CtYlaz%2BEWm%2BLfiLcoxVovAnhO6vIgfe5ZUtwPcyYpQdeU3UjHfy07eS/EwxOJyvCwVCvWSaadnO83Z32XNN/wDgJ3esfAX4b%2BLNY0vxP470Ya3q%2BkS%2BZaapeYjkOJBKiusARJUR1VlV1YKVB6812deHn4m/tyfEP5PAP7OfhvwRatymo/EPxN9qnKnv9j08NhvZp198Uh/ZZ%2BM/j/8AefHr9r/xXfQty2i%2BBbaLw9Z4PVGeLfcyL25mGf0pSg2l7Sa0%2Bf4LT8TOGPcm/qmGnK/VpU0/VztJ/wDgDPQ/il8ffgn8E7P7b8WfinoegArujh1HUUSaX/rnFnfIfZVJrzr/AIa%2B8bfEb9x%2BzR%2BzL4s8URP/AKrxD4ki/sDSSp6SLJdr58y%2B0cJz6%2BnYfC79k79nL4M3n9rfDz4Q6PaakW3PrNzAbq/du5a6nLzE/V69DqeahHZN%2Bun4L/Mv2OcYj%2BJVjSXaC5pf%2BBz0XygeCfGiTxvL8Qf2Y5PiRa6XBrrfF%2B9OpxaJNJJaJL/whXinIiaVVdlxjlgDXvdeM/tQf8lv/Zx/7LNff%2BoV4or2asm7u56kI8kFG7dur3frtr8gooopFBRRRQAUUUUAFFFFAHy78Bv2xvjb8QPjF4Wk8baZ4WXwH8TNa8XaZ4Ks9L025i1XS5NFu5YoZLy4e5eK6W7t7a5mKxwwG3by48z5Mgu/Cv8Aan%2BLuu/tpeK/gb8WPE2ieGdFt/E9zpvgDQL/AOE%2Bt2lz4ntotLt7s3Frr092NPu5FdrstbwQNII7VyQAjOOi8HfsGeBvAXxJm%2BI3hf4u%2BN4BbXWs3XhTQnn06Ww8LT6terealLYo9kXZp5Q4/wBJecQpNLHAIVfFb99%2By1B4i%2BOWi/Gvx78b/GviKHwtrVzq/hHwdqR0yPSdFvprO4smni%2BzWUV1MVtru6jQXNxMqidiBuVGUA4z/goX8XPhR4a8H%2BDPhR4j%2BJ3h7T/FPiD4w/D2XQfDV7rUEWoakkfjPRmka3t2cSTBVVixRSAFJOMGu18X/sh/CnxD4lvfHXhe/wDEPg/xBqE7TX2teD9fmspLiQ8lpI8tDKSeu%2BM571l/t4f8kQ0P/ss3w4/9TXRK6bxF8Vvif4P127i1n4B6rqOjRzsLTVfDWoQ3crx5%2BVntmMcinHULv/Gsq1enQSc728k399k7fcebmVLLqtKKxlPmino%2BWT5Xbe8fejp1TXa5zn/CF/tofD7nwl8XvDHjuzXpZ%2BMtHbT7sKP4RdWWUZvdofr60f8ADUPj7wd%2B7%2BNX7LXjPRlX7%2BpeG0j12yVe7FrU%2Bco/3oR710WiftR/A7V71dIv/G0eiageG07xLbSadMp9MXCoCfoTXe2l5aahbJeWF1HPDIMxywuGVh6gjg0qWIoV1enNS9Gn/wAFfNI4KGFhUV8vxstOjlGrFeqn76/8DRwHgb9rD9m/4jXX9neFfjHoj3u7adNvrr7Hdg%2BhguAkmf8AgNehKysoZSCCMgjvXl/7V/iX9lr4dfDK6%2BIn7U2jeHrjRrbEUX9saXFdTTykEpDAjKWeVsHCryME8AEj5S8Ffs0ftAftNa7Zah8JfA/ij9m74Y3SGS8kh8aXh1nWrdgNqR2Ky%2BTYhgTneuRwRuHyn18JltXE0/bTkoUk7OctvNRW835RT6XaMa%2Ba5rgcQsO6cK83bSm5Rkk9OaSkpwivNzV7OyZvftYeKtK0D9sHwh%2By7%2BzN8SbH4aeIfiJd3V94x8Y6ZqDXDedhiLY2Cy%2BULqZlH76ZFbBUI/LCvTvg3/wTf8K/DL4oj4yeLvjH4j8Z%2BIp76G%2B1PVvEMcL3F1cQhhColC7ooE3bvJQgFkjJOEVaxPg1/wAE6vEn7KF6%2Btfs6%2BL/AAZqN6ZXcXfjvwQs%2BoNuJLZ1C3kSbnJ42456dq9M/wCFo/tgeFP3Xi/9mHSPECJzJe%2BCvGkYJHqIL6OE/hvJrrxmaU40I4bBNqCjaTaipTd27u12layUXJpWWlzycJh6ca86%2Ba4WcZc3NFRjKdOCstvZycW27ycvZpu7uchrX7KvxWufhbeeEtY1HTNSXRPDz6X4csdNmZJdUje5Et087yhEhmngXyNoJRTI7F8EBfT/AIN%2BG/FkvjHxd8WfGWg3Ojz%2BJbq0h0/RbyeKSa0s7WEonmmF3j8x5ZJ3wjsArINxxXP/APDZ/gzRf%2BSl/CX4j%2BElX/WXGseCriaBT/11sxMh%2Bua2fC37YH7LnjKQQaF8evC5mJwLa81aO1mz6eXMUfPtivJlXnOLTPUwlbhyliYuniUpL7MpKLbSaWk1CWibSVrerV3V%2BI3x8%2BKvw58ZXmlj9k3xj4i8Pw%2BX9k8Q%2BFr/AE%2B5a4zGrP8A6LJcRyptYsvQ525HWsP/AIb9%2BCOj/L8SfDHj/wAGN/1NHw81KFB/20jhkjx77se9ezabqul6zarf6PqVvdwP92a2mWRD9CpIqxSU6VrOH3N/8E9aWHzFyc6OJ0eqUoRkvROMou3bf1Z5d4W/bb/ZB8ZMI9B/aU8GNIxwsF1r8FvKT6bJmVs/hXoWheKfDHiiD7V4a8R2GoxYz5ljeJMuPqhIql4p%2BGHw18cBl8a/DzQ9YDDDDVNJhuM/XzFNee67%2BwJ%2Bxh4gn%2B1XX7NvhW1lzkS6TpwsWB9QbYoR%2BFP/AGd919z/AMib55DpSn86kH%2BU0evUV4kP2AvgbpnPgfxL8QvDB7f8I/8AEvV4gPoHuHA%2BmMUf8MdeKdO%2Bfwv%2B2j8Y7Nh91bzX7O%2BQfUXNo7H/AL6o5KL2n96f6Nh9azaPxYVP/DVj/wC3Riz22oruys7%2BI299aRTRnqksYYfka8X/AOGfv2s7D5dG/b11Z0H3V1j4faTcY%2BpjSIn86P8AhWP7eWmc2H7VvgrU8dBqfwweLP1MN/8A0o9lDpNfj/kH9o4pfFhKny9m/wAqiPSdS%2BDnwi1kk6v8K/Dd0T1%2B06Hbvn/vpDWJe/so/st6kSdR/Zs8AXBPXzvB1i%2Bfzirkf7L/AOCjNp8sXjT4L3wHRpvDurQMf%2B%2Bbtx%2BlHn/8FHIf%2BYX8Erj/ALf9Yhz/AOQnrRe1jtVX/gTMZY2hL48JU/8ABUX/AO3M3J/2IP2MLk7pv2SPhmSepHgXTwf0hqu37Bn7ErnJ/ZJ%2BHP4eDrMfyjrL/tv/AIKLw/6z4cfBqb/rl4u1Vf8A0Kxo/wCEp/4KGLwfg38J2918cagP52FXz4pf8vv/ACd/5mbxGXPfBz/8EGrH%2Bwf%2BxNGcr%2ByT8OD/AL3gyyP846t237FP7G9md1r%2ByZ8NIyP4l8CaeD%2Bfk1z/APwk/wDwUOfhfg/8JU938b6if5WFH9rf8FGZvueA/gtB/wBdPFOrOf0sh/OhzxT3rf8Ak7/zBYjL1tg5/wDghHaWP7MP7NWlkHTf2efA1vjp5HhKzTH5RVu6Z8MfhtohB0b4e6HaEdDa6TDHj/vlRXl27/go7N/yx%2BCVt/211ifH/jqUf2D/AMFE7/5bn4mfB7Twf4rPwjqc7D/v5eqD%2BVQ1Ul8VRf8AgTZrHG0Y/BhKn/guK/8Ab0e2JGkSCONAqgYCqMAUteJf8Kj/AG5tQ%2Ba//bH8NWGeqaX8K0bH0aa9b%2BVH/DOH7TOp/J4l/b28VGM9U0bwfo1n%2BTG3kYfmaz9lDrNfj/ka/wBoYt/DhKnzdNfnNnttFeJH9i24vefEn7Xfxq1At95V8bJZKfoLOCIgfjVOH9hT9kjWNXm0PxO%2BueJ9Tt41kurbX/iNql5MiN0Z4musAH1K80clBbz%2B5f5sl4vNXZLDxjf%2BarH/ANtgz13xN8Tfhv4KVm8ZfEHQ9JC/eOp6tDBj672Feea9%2B33%2Bxp4eufsVx%2B0X4avZ84EGiXh1FyfQLaiQk%2Bwqt8Lv2Xf2CL2Ga9%2BFvwW%2BG%2BrCyuDDPdWumWl%2B0MoAJUyMHKtg%2Bua9Z0Hwr4X8K232Pwv4bsNNhxjyrCzSFfyQAUf7Ou7%2B5f5ipzznEQUoSopPquep%2BN4xZ5B/w3V4J1nn4b/A/wCK/i1G/wBXcaP8PbqCFv8AtreiBB%2BJo/4Xl%2B2H4o%2BXwR%2BxWNLik/1V7428e2dttHq0Noty/wCGQa9urN8ReMfCHhC3%2B1%2BLPFWm6XFjPm6jfRwLj6uQKPaUltD723/kOeFx3LzV8W4r%2B7GnBffLnf4nkX/CIf8ABQPxiNmvfGb4ceCojzjwx4VudVnHt5l5NGn4%2BV%2BBo/4Yy1TxR%2B8%2BMX7VfxR8Tl/%2BPiyttfTRrOUenk6dHCcexc1t63%2B27%2Bylol3/AGePjbpGpXPa28PmTU5GPoFtFkJql/w1rf6/%2B7%2BGf7M/xM15n/1FzP4fXS7Z/fzb6SI49wpo9vUXw2Xol/wWeVKrw05ctTEOs%2B3tJ1f/ACWndfgaHgf9ij9lD4d3n9qeGvgN4ea%2B3bv7S1Sz%2B33W718%2B6MkmffdXp8MMNvEsFvEqIihURFwFA6AAdK8g/wCEu/bg8W/8gH4OeBvCEX/PTxN4nm1KbHr5VnEiZ9vN/Gk/4UR%2B0Z4t/wCSk/td6pawPzJYeBvDtrpgX2E8wnlx7gis5TnN3k2/U7MPi6NCHJgMFO3lCNKP3zcX/wCStnrmoalp2kWcmo6rfw2tvEuZZ7iUIiD1LEgCvMfEP7an7Nmiai2haX8R4vEWpjhdK8IWk2rTs393FosgU/7xFUbH9i/9mePWYX8c6Pc%2BMNYKmRJvHHiC41SWQDqwiuJGjx9EAru/h9rPwohmufBXw2h02z/s9iJdP06wFtGu1ijFAFVXAYbSUyAeCQaydSCkk2rs0dbOqslFulRvort1Jell7OF7epwf/C9P2i/HQ2fCb9la/sIJOI9W%2BImsRaYiH1NtD505HsVQ/wAqD8Fv2mviB8/xY/aabRbWT/WaP8N9HSyx7fbLkyzH6qE/w9V1/wATeG/CtkdS8UeILHTbYdbi/u0hQf8AAnIFcJc/tWfCi7nex8B/2x4vukbDQeE9GmvFH1lAEIHuXrKrisNQdqk0n2vr92r/AAMK%2BFwlN2zDFym39nmUE/SFK0n98jkPjh4Ws/BXxH/Zl8KafqF/dw2PxgvY0udUvnubiT/iivFB3SSyEs7HPUmveK8L%2BPerXuu/FD9mjWNR0C60ue4%2BMN88mn3rIZYD/wAIV4o%2BVtjMufoTXulbxkpRTXU9%2BkqcaUVTVo2Vt9rab67d9e4UUUUzQKKKKACiiigAooooAKKKKAPGf28P%2BSIaH/2Wb4cf%2BprolepWXjfwdqOqzaFY%2BKdPlvreUxT2aXaeajg4IKZz%2BleW/t4f8kQ0P/ss3w4/9TXRK9N8S/DvwJ4wB/4Sjwhp18xH%2BtuLRS4%2Bj43D8DXFjf7RUE8HyN31U%2BZJrycLtO/VpryJlzdC7rfh7QPE1k2meI9Ds9Qtm%2B9b31skqH6qwIrzvxF%2BzR8B/DtneeLdMjufBS2sD3F5qnhzW5tNjgjRSzuyo4iCgAkllwAPSta6%2BDmh%2BHbd73wt4/1/w7FEN2yHVzLbJ7mO43qB9MV8vftM6l8aP2sPjC37AXw2%2BI9lrmhWMEGqfFnXYLb7Eba0D7otKM8JcebOQCwVAQoHUCRa5svVbM8f7DHYPlUIuc5wlTqqEFf3rJ06q5muWC5fem1FO97eNnDw1LDqpVoKc2%2BWCsruT2SlpJd5NP3YpvtfI%2BBHwt%2BMH7a/xbT9qqP4iXN74C8C6nLb/B61%2BIGlC6GqyD5J9TkSEwEDeoETsGYbeismT9T/APCZftReG/l1/wCDWgeIUHW48M%2BJDbvj/rldooz7eZVnw54k8UfDrQLLwqfgBc2WlaZaR2tjB4YvILmGGGNQqIkZMbqoUAAbelXo/j98NYXEGv397osxODFrelz22P8AgTpt/Ws8x4nyPFVor6xLDQglGEKnNTUYra/tYKLk3dyfP70m3slbDAZPDBUdK81UlrJ30cvSalol7sVzaRS63Zkf8NO6FpPHj74X%2BN/DgXiS4vvDUlxAp/662vmrj34rV8OftI/ATxW4h0X4uaC0xOBb3GoJBLn08uUq36V0mi%2BMvCPiQA%2BHvFOnX2en2O9ST/0EmmeI/AngjxhGYvFvg7StUUjBXUdPjnGP%2BBqa6KM8RWpqdCtCpHvZW/8AAoSaPQVPNIL3KsJr%2B9Fr8YS/Q0bW7tb2BbqyuY5onGVkicMp%2BhHWsrxT8Ovh944jMPjXwJo2sIRgrqmlxXAI9MSKa5G6/ZK%2BALzteaT4FOjzscifQNSuLBlPqBBIo/MVH/wzzrulfvPB/wC0R49sGX7kd7qcOoRD/gNzE7H/AL6rX2uOj8VJP/DJflJL8yak8dKHLWw8ZrynFr7pxRR1L9hj9lC/u2v7T4NWGlXDf8t/D1zPprD6G1kjxUH/AAx9Y6Z/yJf7RHxW0NV/1UEHjN7uJPYJeJMMe1av/CEftQ6N8%2BkfHXQdXx0i13wf5efq9tOn6KKP7a/a20j573wH4F1pR207XrqzdvwlgcD/AL6NH1xr46U18r/%2Bkyf5HlvAZMneWAlB94wt%2BNGpH8jK/wCFJftR6T8vhv8AbNup41%2B5F4i8C2F1x6F4PIY/XNH9mft56R%2B7tvFnwp1tF6PeaPqNhI31Mc0yj8FrV/4XB8a9O%2BbxB%2By3rGwfefR/EVhd/krSRsfypf8AhpW3tv8AkNfA74j2IH3mfwo06r%2BNu8go/tDCr4m16xkv/bReyymHw161P/t%2Bsv8A0uE0ZP8Awn37bGi/Lqn7OngzWcdX0X4gSQZ%2BguLMfqRR/wAL8/aK0/5tf/Yn8RBB1fSfFmlXX5AzRsfyFa3/AA1v8DYPl1fXNV01%2B6an4Yv4MfUtBj9as2P7V37N2oHbD8afD6H0ub9YcfXzMYprMMA3b2sf/AkvzaGp4a9qeZteUpUX/wClQizA/wCGstXtfl1j9k34uWxH3jF4btrlfwMFy5P5Uv8Aw2d4Jt/%2BQ18IPinpw7m8%2BG2o4H4pGwP4V29j8bvgxqeDp3xd8MXGenk6/bt/J61rTxn4Pv8ABsfFemzZ6eVfRtn8jW8a9CfwzT9Gn%2BTOqEMfP%2BHj4y/7h0n/AOk1EeZf8N0/s6w8anq3iWxbut54B1hMfj9lIo/4b0/ZQX/X/FNof%2BvnQL%2BL/wBDgFeuxTwzrvgmVx6owNOrU29hnvTEU3/3Cf6VTx//AIb6/Y%2BH3/jrpSf9dYZ1/nGKUft8/scH/m4LQPxlcf8Astev0hVT1AP1oD2Of/8AP6l/4Ln/APLTyE/t9fscDp%2B0DoJ9lkkP8lo/4b4/ZCP%2Br%2BN2nSf9crS4f/0GM16%2BAB0FFAexz/8A5/Uv/Bc//lp5B/w3n%2Bys3%2Bo%2BJF1P/wBe3hjUpf8A0C3NH/DcnwGn/wCQQvi/UD2Fl8PdXbP/AH1bCvX6iuL6ytBm6vIoh6ySBf50Npbg6Ge21xNNelJ/rVOb%2BFnxa0b4t6ddaponhjxHpsVrMIyPEfh6409pcjO6NZ1UuvuOM8VxHxysr3wv8SvDXxD0jUpIYhrdpBrHl%2BJrozyLI3krBFYEm3ZW3guw2v8AKSATzXpN58QPAen5%2B3%2BNtIgx187Uolx%2BbVyer/EP9lSDxLH401vxr4A/tqBAkOqT6hZG7RRnCrITvAGTwD3PrWMsRh4fFNL1aX6meNjGrgo0qteHOmnzNqGzvdJSfpa9nrdq55p%2B0JfeHj441jXdTubaXWZNJ05/hrdROrSyzx3X7%2BCzfqZnYhXVDuZHIOVBxBN4TvNS8eXvgbT9FurbxZP4h11rvUxZSKH027tHKSmfG0x7zGiLuyrRgAALkemP%2B1f%2BzLparZ2vxY0VggwkOnlpsD2ESn9KT/hrD4R3Xy6BF4l1duy6Z4O1CTP0JhAP51i8xwH/AD9j8mn%2BVzxquFymriJVJ4uGru0rN676pt83SMrXUdNTG%2BA2n%2BI7vx9Brdx4U1PSIdN8BWOi6zHqGmyWyS6hBK3%2Bp3KBMirvHmJlSGTB9Oq%2BKfwo8bfEXVrabRPj54m8KafFbeXcWHh23sw077ifM86aCR1OCBgccZxnNZ3/AA0XqF58uhfs8/Ea7Y/dM2hR2qn6m4mQj8qT/haP7Qmof8gf9mGSBW%2B7JrPjC0hx7lYRKfwpfX8M/hbfpGT/APbUejR/syOC%2BrSlOom7vljUV9v5FGy0V0pWere9llf8MW%2BAdU%2BXx58UviT4nQ/eh1nx9erEf%2BAWzRKPwArR8PfsW/speGJ/ten/AAE8Nzz5z9o1SwF7Jn133G9s%2B%2Bc1J9o/a91T5otN%2BHmjI3QTXN7fSL%2BCrCpP40f8K1/aM1X5tc/aShslb78OgeELePA9A9w8p/HAo%2Btzl8FGb%2BSj/wClS/QiGBylS5qeXuT7yhG/31ZzZ3%2BieHfD/hq0Fh4c0Kz0%2BAdIbK1SJB%2BCgCre5d2zcNxGQM84rzX/AIZpstR/5G/4y/EDWVb/AFkM3iZ7aJ/bZarEMVv/AA/%2BBvwr%2BF2pTa14H8JJaXtzB5NxeyXMs80ke4NtaSV2YjIB69quFTFzmuamorzld/clb8T2KFTGuSj7GMIf402l5KMbfiil8a/EHxA8I6VH4m8IXjSQ25HnafDohuTIRlmaWQPmKIIDkqhbOME5C1B8UfD%2Bv%2BK7jRPFfhu/tbrS7a3mkvLS58R3NhbTKwRo5SYARLgrwHwuGPNXPitLpup6hpHg7Ub7V4odSnaO7Gl3ghBibEYEpwWKszBcKQcnriszx1p2j2bXOkQeDdHvdM0TTodRubDVrI3AdV3RgRb22xbUjY52nJGMDOa8bHZjhaTr80m1FxTSu2pWc9u3Km5b6JqzehhiMPVq1Kqb918ttXpJa6WTsu669jjb7WLXX9Zj8cp4cu4tZ8QHRNT8KyPZu8qbl8qa28wD5VjXc0ikgESFsHdXS%2BBvBPi/SPFvh7Q7nQLqG38Ky6mh1lpYzBeWU7HyIlAbeX/1JbK4BhPJ3CtKPxD4pS/mvbHWiIn1eTSrfTfIjWKAGINA6gLu3DIZskggnAAFO%2BFeoL/aljb6ZqE00OoeHUvNSgnu3me3vAyK24uSVLbnBHAzEeK83DZphqmPhS5ZXlLf3Vf3nZ2V73lFt6qUI2umr2xo5bGNVTlNt3T0SV9b677yV77pWWx1Hib4e%2BBPGt5Z6h4w8HaZqs2nbzYvqNkk3kF9u4rvBwTtXn2FakMNpp9qIYIo4IYlwqIoVUUew4ArF8YaF4h8RT29loHxBn0VUVjdx2drDJLMDjaQ0gPl455AOcjpjnIT4C%2BB7txN4tutW8QyA5Da5qssyj/tmCsf/jte3XxWYrEzhg8KpdHOVSEYt2XSKnUdttVH7rM9b2ahUcowSb3eiv66XfzOL/aYuLe7%2BNH7N9zazpLG/wAZb4pJGwZWH/CFeKOhHWvaa8S/aO0zTdG%2BMH7Nul6RYQ2ttB8ZL5Ybe3iCIg/4QrxRwFHAr22vXp%2B09mvaW5rK9r2v1tfW19r69zZXCiiirAKKKKACiiigAooooA5jw58bfgx4x%2BIOs/CTwj8XfDGq%2BK/DiK/iHwzpuv20%2BoaWrY2tcWyOZIAdy4LqM5HrRa/G34M33xTufgXZfFzwxN43s7AXt54Oi1%2B3bVYLUhSJ3tA/nLGQ6fOV2/MvPIr44/Z48PeM/Bfxq8B6H4g%2BEHjXTtS%2BGPif4k3/AI/8THwPqLWupW2saxJJaC1uUgK6kb157W9ZLcymEWjeeInjC1d8HfD/AOIMX7Unh74by/CjxRDr2g/tO%2BJPHuteM5fDV0mlTeHbzQtTt7aRNTMf2aeQre2Gn/ZVkMyfZmYxiOFXoA97/bw/5Ihof/ZZvhx/6muiVN8dv2sv2Xv2TdeRvjN8XzpWpapbGe10ENcXk0ys%2B0SJbxK7KCysobAXIYZ4OM/9tn4P/tP/ABh8KaLpfwA8VeAlttJ8YeG9d1Dw54w029hfVW0vXrHUzHHqltLILEMloVy1hdbmIHyBty%2BAfsR%2BBf2vo9R8U/tJP8BPh74v8Yat4t13Qb/xN4z%2BPGom5hTStYvNOaC2ji8LmOC38y1dl24LKVJVP9WmlLBZPiaka2PTk6T5oJXUuZ3V1K9opJu91K%2BiUeq48XVzOKVPBpLm0lKWqilr8Ks5NvZJpLVt9H6TbftMfGT9rbV10D4F/Ajxl4b8LOhEnjnxjoSWsT843W8DyiSQNnaJNrbQWJCnDL33wa/Zt%2BFf7MfwrtfBHg67hnuWuJNS1/UtZYteeIL4q3mTyvlWZyxO3qF4AHq7/hOP%2BChf/Rr/AMGf/D8at/8AMvSP40/4KDyACT9lv4LsAcjd8d9WOD/4S1fO5zkVLHLGxwj9nHFKClGTlNXptuLvpJ2dnyO9O6soJSlfowUJUZ06uJl7SpDmtKyjZStdJK6V7Wv8T6y0SO/uNRvjM0tldTW62j2sMFnuBDs4DMr5ySdrAdeMZqzp2vX%2BoX1sboQvZ6i04gg8o7lRM4csTghgOmP4hXl8niD9veXUV1aT9lH4LG5QYWU/HfVsjgj/AKFfrgnn3qDTdV/b80u6N3D%2BzH8H3IVlhST496sVhVjkqg/4RbgEgevQCvCo5HxFh8fGUa96bnd2k0uVNWbi01rC9P2cLQT5ZO9lb1JV8NKm04627fr663eu6PU9a%2BEHwt8QsZNX%2BH%2Bkyuesy2SJJ/30oDfrWb/wonwtZf8AIs%2BIvEejDsmm%2BIJ9n/fEjOv4Yrxib45ft2eMvjLrfwOtv2aPhnY6r4Y8MaTrt1eWvx%2B1SOCWDUrjUreFFP8AwjBLOraVOWDKABJHgsSwXr9M8Wf8FELCxjs5/wBm74P3TIDmef48arvfknnHhYD26dq9WeS5dicynGrl0FG11VTgnJ6XTUFTqRe%2Brk07eaOCVGg4KV1ftZr8djuP%2BFffFDTuND%2BN926D7ser6Nb3H5sgjb9aNv7Qun8CTwhqar3Zbm0dvy8wZrjv%2BE4/4KF/9Gv/AAZ/8Pxq3/zL0f8ACcf8FC/%2BjX/gz/4fjVv/AJl66P8AV7DQ/gVq1P8Aw1ptfdP2iMvZro39/wDw52P/AAnHxesv%2BQl8EjMB959M8QwSZ9wsojNH/C5ZLbjV/hP4xtSPvMujidR%2BMLvXHf8ACcf8FC/%2BjX/gz/4fjVv/AJl65fVv2jv27dH%2BM%2BgfA64/ZQ%2BEjap4i8L6vrtncp8ddU8iODTrnTbeZHJ8Mbg7NqkBUBSCEkyVIUMf2Xm1P%2BFj5/8Ab9OjP8lTYcs%2BkvyPWv8AhoL4XRfLqerXtg3ddQ0a6hx9S0eP1ra8KfETwN45aVPCHimz1BoVDTJbTBmQHoSOorzP/hOP%2BChf/Rr/AMGf/D8at/8AMvTE8X/8FAopWnj/AGV/gsruPmdfjrqoJ%2Bp/4Rat8NRz2nXXt69OcOtqcoy%2BTVSUfvQ0qierX3f8E9D8e%2BNtS8OyQWPh/T47q4M0Bu/NDbIYZJRGCcfxMSQo9ueKg%2BIOuQ2tw1hb%2BFLDU5ILCS9vRf4CpAmRhfkbLnBwDgcckV5P4u0v9tjxrNFea3%2ByH8EHuY5on%2B1/8Lw1TzWWNwwQsfC2dpxgj0JxUHiWD/gov4gIki%2BAfwbt5JrGSxv5F%2BNuqMZ7Zznav/FMAIwBIDc43Hg152NpcRc2JdN3UnHk5WrpJSurTVk2%2BRttyTXNa1knE4zkmnqv67nf3ml/CfWtWjiuPgf4eurBri3t7m9utNty6SzIGQBDGQyjcoY7gQTwDyapaP8ACn9nDxbqkVnN%2Bz34bt4L6KWXS7tdHtlF2kbAOQqKCn3geeoNeSfF74k/t5fBewtPHGt/s1/CKXRb7xv4d0/%2BzLL416o0322/1Cz0m2bzG8NqohWa5hlkG0thHK54Q9T4Xtf%2BCh3h6702Wf8AZ3%2BC9xDo9hNaadEvxu1dGVJGQku3/CMncwEajIC9z345aWFzyWKj7anFw5tbxpWteztpdQ5dY/a59HocssDhaj9%2BlB%2BsYf8AyJ6JL%2ByF%2BzTK2/8A4U7pCH1hjaP/ANBYU3/hkH9nYf6r4eeX/wBcdWu0/wDQZRXF%2BLrv/goh4sigjh%2BBnwx0kwMx36R%2B0DqkZkzjht3hRsgY4%2BprD/4Rz/gpNH/qPBfggf8AXT9oC9b%2Bfg%2BvQxVKdGu40sujUj/MpUY3/wC3ZJNW23IllOWX0w0P/AYr9Eeof8Mi/AIfc8Kagn/XPxRqK/yuKP8Ahkb4E9vD%2BsD6eMNU/wDkmvL/AOxv%2BCnS/wCr8IfD0f73xzu2/wDdQrl/jb8Qv%2BCk3wH%2BDHi744%2BKfAngO60vwZ4Yv9d1K1sPjTcNcTW9pbSXEiRh/CaqXKxkKGZRkjJA5rn5q/8A0Kn/AOB0P/kkT/ZWW/8AQNH7onvH/DI3wI7%2BHdXP18X6of8A25o/4ZE%2BAHR/B96//XTxLqDfznry/wDsr/gqGfveE/hz%2BHxtuh/7qNH9if8ABTZv9b4P%2BH5/3Pjrdr/7qFHNXe2VP/wOh/8AJMP7Ky3/AKBo/dE9Q/4ZA/Zyb/W/DSGX/rvqFzJ/6FKalt/2SP2abU5j%2BDGhsf8Apra7/wD0ImvKv%2BEZ/wCCkL8z%2BCPBTeyftC3yfy8IUf8ACI/8FC3/ANf8NfBr/wDdyurJ/wCgeFBQvrnTKo/OpQ/%2BQY1lWWrbCw/8Bh/8iz2az/Zy/Z%2BsMG2%2BCPhQEdGbw/bsfzKE1r2Pww%2BGml4/sz4eaFb46eRpEKY/Ja8C/wCEG/brk/4/fgh4FufUT/tQeIP6eGRXL/BG9/ab%2BPfwY8IfHLQf2O/hoNN8Z%2BF9P13TrfWf2k9faeK3u7aO4jSVV8PMgcLIAwUsMg4JHNbRlnK/h4ClH1qx/wDbKDN4YTD0/gowXoor8oH10iaVo8O1Ft7WMdgFRf6VQvfiB4D03P8AaPjbSLfHXz9SiTH5tXz/AAfDb9qOB/MH7DXwIkb1uPjpq8p/8f8ADBrTstG/a/07BsP2HP2fYSO8fxj1AH8/%2BEVrZT4nltToQ9Z1ZflCB0r2iVkkvvPVrz49fBqybZJ8SNKkPYW9yJSfpszmoD8fPAFxxo0Wtak3ZdP8PXcmfofLAP51w9n4m/b509dth%2Byf8EoB6Q/HPVV/l4Wqf/hOP%2BChf/Rr/wAGf/D8at/8y9H1fiWp8WIpR/w0pS/GdVfigtV7r7v%2BCdj/AMLc1q8%2BTRPgz4snY9DdWsNqp/GWUEflR/wlnxt1D5NP%2BEdhZZ6Sap4jU4%2Bqwxv/ADrybwD%2B0d%2B3b8RPFfjfwho/7KHwkhuPAfiiLQtVkufjrqgSeeTStP1MPFt8MElPJ1GFSWCnejjGAGbqP%2BE4/wCChf8A0a/8Gf8Aw/Grf/MvR/ZWZ1P4uPqf9uQpQ/8AbJv8Q5JPeX5HY/2f%2B0DqXyXXiXwtpSnvZ6bPdOPxkkQH8q1/CPhrxho13Ld%2BKfiJcaz5ke1IG06G3jiOc7gEG4ntyxrzf/hOP%2BChf/Rr/wAGf/D8at/8y9H/AAnH/BQv/o1/4M/%2BH41b/wCZet8PkuHoVo1pVas5Lbnqza/8BXLB/OLGoJO93953vjf4Yx%2BL7t9Sh8S6jZzsLfCQXG2L9zIXQkKA2QWbGGGCc1F8QPCX9o6e90b%2Bf7ZNG9oqWu1BcwMSTBIGD5ULuJYYb7xBGTXn174p/wCCiN3c288f7OXwggWByzxQ/HjVNs3s2fCpOPpjrXLD46ftt%2BMvjHrnwJuf2SfhK2peGvDWka/c3L/HnVlt3g1G41O2hRCvhncXVtMnLgqFxJHgsSwXzczyRYvC4yGHoqFSpZKTnpJ2%2BJJc3K480krx1etnFtPanChGpGU9V1Wv%2Ba/Cx7XqvhSwvW07xhoWlTLds0LyG1ddxQx7Q22Q%2BWXCkKHI3BeAaguf7JN1JqVq7WTmylkMgxG73MMmHMmzAkbtzkY6da880/Uv2/dO0pNGt/2ZvhAsCJtVYvj7q8ZHJOQU8LAg8461PHrv7ekVolj/AMMnfBR4o33osvx21Z8NnO7LeFySc9%2BteJX4XzPHLnfJTlOMHNXbj7WMUm48nLKKbcpSkmnJxhpozsp18NRfuq9m7aJOz73vrbT0uegxCQaqjSWxTUZdUinjcRHL27Iu8FsfdUbxgnqorptUs7q/sHtLTU5bSRsYuIVUsozzjcCORx%2BNeRf8Jx/wUKHT9l74M/8Ah%2BNW/wDmXo/4Tj/goX/0a/8ABn/w/Grf/MvX0WVcPU8uw9ejOo5xq72vB7Su24yT53zO804t2j1jd41cS6koyStb5/n00216kP7SNo1j8Yv2bbR7ua4MfxkvgZp2Bd/%2BKK8UckgAZ/CvbK%2BV/if4l/at1f8AaT/Z0tfjX8F/h74f0cfFzUWjvvC3xOvtYuTP/wAIX4m2oYJ9FslCEFiX80kEAbDklfqivepUoUaUacFZRSS3eiVlq22/Vtvu29TnbcndhRRRWggooooAKKKKACiiigAqj4o8Q2HhLw1qPivVQ5tdMsZru5ES5by40LtgdzhTV6o7u0tb%2B1lsb23SaGaNo5opVDK6kYKkHggjjFAHzf8Asa/tS/Hz4qeMNG8K/H/TfCSP43%2BE%2BnfEDwuvhPT7m3/su3uJQk%2BmXTT3EwupIRNabbuMQLKXl/cRbBu8rsP%2BCj3xl%2BHXwwPxp8S/D/wZdeG/Hfwv8V%2BOvhnoGhadcWNzZS2N7aC3tNSuHnlS5e8XU4Z5J4oYPJdJlKTblevefgB%2Bwv4Q/Z01W31fwn8ZfHWpy6dounaBoY1%2B5064GleH7J5Xg0aErZITb5l%2BeaQveSCKLfct5a4xtJ/4JnfAa2tPEHh7xJ4q8W6/4e1bwlrnhjQ/DGrajbLaeFtJ1e4S4v7XTmt7eKdA8kNuUeeWeSFbaJInjVdpAOm/Zk%2BLnxj8R%2BPvH/wL%2BP8Ad%2BGdQ8TeBbrTJl1zwho9xp1jqFjf2nmxN9muLm5eGVJYrmJh5zhljjkGzeY09irzv4Afs56V8Bj4h1i4%2BJHibxp4i8V6jDd%2BIPFnjCSzN9d%2BRbR20EW2ytra3jijijAVY4lyzyO255HZvRKACvl34DftjfG34gfGLwtJ420zwsvgP4ma14u0zwVZ6XptzFqulyaLdyxQyXlw9y8V0t3b21zMVjhgNu3lx5nyZB9RV4Z4O/YM8DeAviTN8RvC/wAXfG8AtrrWbrwpoTz6dLYeFp9WvVvNSlsUeyLs08ocf6S84hSaWOAQq%2BKAKeufFT44/Dz9tTwj8M9a1HwDrulfERtTRdI0PwvdW2u6Do9hazTxajd3r3ksd1bi6eK1KC3gCzapHsZsPuyP%2BCcP7U/xd/aP8C%2Bd%2B0X4n0Sy8d/8IzpGq6z8PLf4T634UvvDjXUcpkWRdXu5n1GAyo8Ud1AkcRa2l5cnCdb4G/Y0/wCEB/aU8WftL6d%2B0p8Qru98aTqdZ8PalFoc1itvFbvDa2UMv9mC9gtbcyPNHClyF855JH3mWXzNj4N/sv23wt%2BIuqfF/wAW/Gnxl8QfFOpaJb6Mmt%2BMjpsb2enwyyTC3hi02ytIFDSys7u0bSMQgL7UVQAeo0UUUAfLv7TX7Y3xt%2BFfxT8Yv8PNM8LN4N%2BE2i%2BG9T8d22s6bczajrEeqX1xFNHYzR3Mcdo1ta2/nhpIrgTySiLEIUyGb9sj9pX4mfAr9oXwdZ22r%2BHvCXgaTwjqV54l%2BIviP4Raz4ittNkW9sEW0lvbC7t4NIhkjaWV57tvK/0ZSeErtvjP%2BxD8OPjd8Uj8TNc8c%2BKtLi1G10i18X%2BGtGurVNO8UwaXeyXtjFfLLbyTBY5ppc/Z5YDLHIYpjLGFQT/HT9km6/aE8Ey/DHx5%2B0t8Q4vDGqaPcaT4u0HTF0WGLxJZTlxNDcy/2aZ4Q0TtAWtJLdvLPXf89AHnmpftjfG21/aAu5YNM8Lf8Kx0/wCM1n8NLmwfTbk63LeXGmwTjU1uvtPkLEt5cxW32U25Yxq8/ng4hr6irxe4/Yd%2BGs/x7/4XgPG3imO0fxTD4on8Bx3NoNDm16LTl06LU2T7N9p81bZIwIhcC38yJJjCZR5le0UAFfPX7Xn7RP7QHgP4gQfC79nC18Irqen/AA113xvrNx4y025uobqCwktYodNhFvcQGCS4e4kzdMZVgEI/cTGTC/QteR/tL/seeD/2mdQsta1H4k%2BL/COoW/h/U/D99qPg28tYZtS0XUPIN5p8xubacLHI1tCwliEdxEUJimj3vuAOa/ac%2BO/jKD9iv/hrr4X%2BLPCeh6NpvgseMryz8a%2BA7jXmuoUtUvbaCCK31KyMdz5gQIcyEybAqhsGuGvf2sf2rfh98dfAfw0/aG1zwf4I0i7%2BH3hC88W67/wqHXtR0vUfEuoXt7bajpVvq0V%2BtnpAVoLRIPthmYvex/63hD7j48/Zh8F/Ef4aWXwf8T%2BJNZbw5p3ijSdXtNKtRaQxrDpt5b3drphCW43WQktYgyNmR0BRpCrEVU%2BOn7LUH7QWuWyeNvjf41t/CSzWM2p/D3TDpkelarJa3K3MZnlaya%2BAaRI96RXUaOsYUrhnDgHqlFFFAHi//BQX4u/HD9n79kfxp8evgFe%2BFI9Y8E6Fd65dQeMNFub62u7S1tpZnt0S2urZkldkRRIXKoCxKPwKu/tg/E/xd4E8HeGvAvw90zQbjXviP4ytfCmmy%2BKtNkvdMtVnhnuLma5to5YWuUW0tbnEIlj8xyil1BJGp%2B1j%2BzjZftafAjXv2fda%2BKvinwjpPieylsdcv/CC6d9rubKWJ4prbdf2l1GiOr8siLICo2uvOc7xv%2BytJ8Svh1Z%2BCPHn7QXjrUdT0nU9O1TQPGJi0eDU9J1KzJK3kIg05LZnkDOsiSwSQskjp5YVipAPBJP27v2rfGWh/wDCGfDPRvAFt428J6F461Lxxc6zpF7NpupP4c1gaVHbWUcd2kloL5t04mkkuPsigIY7kncPrb4X%2BPdM%2BKnw08O/E/RLaWGy8SaFaapaQz43pFcQpKitjuA4B968Q8Q/8E0vhPrHgXSfB%2BjfFz4gaDeWem%2BIdO13xPoupWK6l4ktNdu1vdYivXls3jBubpRN5ltHBLA2RbvApKn6C0PRNI8M6JZ%2BG/D%2BnxWlhp9rHbWVpAu1IYY1CoijsAoAA9BQBarmvjFJ8TYfhlrE/wAHNa0HTvEsVrv0y98TaVNfWMRVgXMsEE9vJKPLD4VZY/mK5bGa6WsL4meDtU%2BIPgPU/BejfEHWfCtxqNv5KeIPD8NnJeWYJBZolvbe4tySAVPmQuMMcAHBABwXwE%2BKPxg/aG/Yj%2BH/AMa/D9z4a0fxr44%2BHGia40t5pVxcaXZ3l5ZQXEp%2BzLcJNJEpkfbH56sQFBk6tXgF7%2B2Z%2B1FoPwc09fAekeFbqDR/jnd%2BBNQ8eeDvg1ruv6PJoVnol1cvqNpomm3rXUaxajCmkuRcyxJLBK2dpUL7F4S/Yan8Gfslp%2Bx5pP7W/wAV10G18EJ4V0rX4Z9EttY02xjRIonguLbS41WZIEEKylCdpLnMuJRo%2BD/2RvE3w9%2BCGk/A3wD%2B158RtEtdCuEXSdX0vRPCsNxa2CW6wR6akK6J9jW2TaHUi384McebswgAPQvg743034lfCfw18QNI8caR4mt9Z0O1u08Q%2BH7Rrex1IvErG4gieWVoY3JLLG0kjICFZ2IJPSVy/wAFfhD4N%2BAfwp0H4OfD%2BK5XSPD2npaWbX1y008oGS0ssjcvI7FnZu7MTgdK6igArxf9jn4u/HD4lXXxS8HfH698KXes/D/4mN4etr7wfotzYWtxato2lakhaK5urlzIrag8ZcOFcRqwRMkV7RXi/wACf2PNY%2BBPjTxf41tP2sviV4jk8ceK4fEGvWPiG08OiB7tLW3syE%2ByaRA6Rvb2ltEwD5xCGUq7OzAHhngj9v8A%2BKvg34b/ABi%2BInxeg8NW3i7w1pfiDWNE%2BGDfCjWvDN9fx2V%2B%2Bn2V42pX91JFq1vJGunrJc2sOyL7TFyBsQ%2B8/syfFz4x%2BI/H3j/4F/H%2B78M6h4m8C3WmTLrnhDR7jTrHULG/tPNib7NcXNy8MqSxXMTDznDLHHINm8xpma5%2BwR4G%2BImq%2BINV%2BPXxg8c/EM654J1fwlaQeJJ9Otk0XSdTkge9htP7NsrU%2BY5tLTE8xlmT7Mm11Jct2PwA/Zz0r4DHxDrFx8SPE3jTxF4r1GG78QeLPGElmb678i2jtoIttlbW1vHFHFGAqxxLlnkdtzyOzAHolFFFAHi/wV%2BLvxw1r9rj4s/AX4qXvhS60fwxoXh7XPCE/h/Rbm1uYrTUrnWYfs94811MtxKi6ZE3mRpAuZXGw4Brn/EnxE/aW8K/t%2BeC/hBpnir4c6r4c8XaRrGseIbOD4fXlvrOl6DpyJFb79R/tV4pZDqGo26qrWiqyNdFVUqTXQaL%2Bx5rGgftF%2BMP2ktO/ay%2BJQ1DxnpVlpl7oT2nh06fZ2lnPdTWkUA/sjzx5RvbpQ0k0jMsx3lyqFe00v4F%2BFdL%2BOHiX9oFNW1ObX/EnhjTdAbz5ozDp1lZS3cyLbKIwUZ5b2V5GYvvKRDgRqAAeO/8E4f2p/i7%2B0f4F879ovxPoll47/4RnSNV1n4eW/wn1vwpfeHGuo5TIsi6vdzPqMBlR4o7qBI4i1tLy5OE%2Blq8u%2BDf7L9t8LfiLqnxf8W/Gnxl8QfFOpaJb6Mmt%2BMjpsb2enwyyTC3hi02ytIFDSys7u0bSMQgL7UVR6jQAV4P%2B1r8Zv2gvgN4k8L%2BLvBniDwRe%2BHta8XaF4dtvAt94cvJNc1y5vb5YblrS9jvVihMFq0l1sa0mHl2kzO8aAvH7xXjPxJ/Y5X4iftO6J%2B1Nb/tHfEDQtV8P6GNK0zQNMh0S40uCB5vNuWjS%2B0y4mhluQI45pYpUdo4Y0VkA5AOF/bY/ah%2BM3wt8ZeILP4NeHPB10nwn%2BFN18SvEw8WaVPczajCrXUMWn2EkVxCLGeWG11BTduJ1TdGvkuruRVj/bZ%2BMWofGs69pWneFz8K4vi9YfDp7GXS7n%2B3Jbm70y3uF1Rbn7T5KRLeXUVsbU25Yxq83ng4hruPjp%2Bwj4K/aDaKbxt8YPHFtNd%2BF7vwx4vn0i406BvFehXMwlk0y%2BH2IqsX30WS2FvOiTShZR5jk2p/2HPhpN8ev%2BF3r418URWjeKYfFE/gKK5tBoc2vQ6cunRamyfZvtIlW2SMCIXAt/MiSYwmUeZQB7RRRRQAUUUUAFFFFABRRRQAUUUUAFFFFABRRRQAUUUUAFFFFABRRRQAUUUUAFFFFABRRRQAUUUUAFFFFABRRRQAUUUUAFFFFABRRRQAUUUUAFFFFABRRRQAUUUUAFFFFABRRRQAUUUUAFFFFABRRRQAUUUUAf/Z\">"
      ]
     },
     "metadata": {},
     "output_type": "display_data"
    }
   ],
   "source": [
    "try:\n",
    "    display_html(HTML(anim.to_html5_video()))\n",
    "# In case the build-in renderers are unaviable, fall back to\n",
    "# a custom one, that doesn't require external libraries\n",
    "except RuntimeError:\n",
    "    anim.save(None, writer=matplotlib_utils.SimpleMovieWriter(0.001))"
   ]
  },
  {
   "cell_type": "markdown",
   "metadata": {},
   "source": [
    "# Logistic regression\n",
    "Your assignment is to implement the logistic regression\n",
    "\n",
    "Plan:\n",
    "* Use a shared variable for weights\n",
    "* Use a matrix placeholder for `X`\n",
    " \n",
    "We shall train on a two-class MNIST dataset\n",
    "* please note that target `y` are `{0,1}` and not `{-1,1}` as in some formulae"
   ]
  },
  {
   "cell_type": "code",
   "execution_count": 31,
   "metadata": {},
   "outputs": [
    {
     "name": "stdout",
     "output_type": "stream",
     "text": [
      "y [shape - (360,)]: [0 1 0 1 0 1 0 0 1 1]\n",
      "X [shape - (360, 64)]:\n"
     ]
    }
   ],
   "source": [
    "from sklearn.datasets import load_digits\n",
    "mnist = load_digits(2)\n",
    "\n",
    "X, y = mnist.data, mnist.target\n",
    "\n",
    "print(\"y [shape - %s]:\" % (str(y.shape)), y[:10])\n",
    "print(\"X [shape - %s]:\" % (str(X.shape)))"
   ]
  },
  {
   "cell_type": "code",
   "execution_count": 32,
   "metadata": {},
   "outputs": [
    {
     "name": "stdout",
     "output_type": "stream",
     "text": [
      "X:\n",
      " [[  0.   0.   5.  13.   9.   1.   0.   0.   0.   0.]\n",
      " [  0.   0.   0.  12.  13.   5.   0.   0.   0.   0.]\n",
      " [  0.   0.   1.   9.  15.  11.   0.   0.   0.   0.]]\n",
      "y:\n",
      " [0 1 0 1 0 1 0 0 1 1]\n"
     ]
    },
    {
     "data": {
      "image/png": "[encoded data removed]",
      "text/plain": [
       "<matplotlib.figure.Figure at 0x7f9438074c50>"
      ]
     },
     "metadata": {},
     "output_type": "display_data"
    }
   ],
   "source": [
    "print('X:\\n',X[:3,:10])\n",
    "print('y:\\n',y[:10])\n",
    "plt.imshow(X[0].reshape([8,8]));"
   ]
  },
  {
   "cell_type": "markdown",
   "metadata": {},
   "source": [
    "It's your turn now!\n",
    "Just a small reminder of the relevant math:\n",
    "\n",
    "$$\n",
    "P(y=1|X) = \\sigma(X \\cdot W + b)\n",
    "$$\n",
    "$$\n",
    "\\text{loss} = -\\log\\left(P\\left(y_\\text{predicted} = 1\\right)\\right)\\cdot y_\\text{true} - \\log\\left(1 - P\\left(y_\\text{predicted} = 1\\right)\\right)\\cdot\\left(1 - y_\\text{true}\\right)\n",
    "$$\n",
    "\n",
    "$\\sigma(x)$ is available via `tf.nn.sigmoid` and matrix multiplication via `tf.matmul`"
   ]
  },
  {
   "cell_type": "code",
   "execution_count": 33,
   "metadata": {},
   "outputs": [],
   "source": [
    "from sklearn.model_selection import train_test_split\n",
    "X_train, X_test, y_train, y_test = train_test_split(\n",
    "    X, y, random_state=42)"
   ]
  },
  {
   "cell_type": "markdown",
   "metadata": {},
   "source": [
    "__Your code goes here.__ For the training and testing scaffolding to work, please stick to the names in comments."
   ]
  },
  {
   "cell_type": "code",
   "execution_count": 78,
   "metadata": {
    "collapsed": true
   },
   "outputs": [],
   "source": [
    "# Model parameters - weights and bias\n",
    "# weights = tf.Variable(...) shape should be (X.shape[1], 1)\n",
    "weights = tf.Variable(tf.random_normal(shape=(X.shape[1],1), stddev=0.05, dtype=tf.float32))\n",
    "# b = tf.Variable(...)\n",
    "b = tf.Variable(0.0,dtype=tf.float32)\n",
    "s.run(tf.global_variables_initializer())\n"
   ]
  },
  {
   "cell_type": "code",
   "execution_count": 79,
   "metadata": {
    "collapsed": true
   },
   "outputs": [],
   "source": [
    "# Placeholders for the input data\n",
    "# input_X = tf.placeholder(...)\n",
    "input_X = tf.placeholder(tf.float32,shape = (None,X.shape[1]))\n",
    "# input_y = tf.placeholder(...)\n",
    "input_y = tf.placeholder(tf.float32,shape = (None,))"
   ]
  },
  {
   "cell_type": "code",
   "execution_count": 80,
   "metadata": {
    "collapsed": true
   },
   "outputs": [],
   "source": [
    "# The model code\n",
    "\n",
    "# Compute a vector of predictions, resulting shape should be [input_X.shape[0],]\n",
    "# This is 1D, if you have extra dimensions, you can  get rid of them with tf.squeeze .\n",
    "# Don't forget the sigmoid.\n",
    "# predicted_y = <predicted probabilities for input_X>\n",
    "\n",
    "\n",
    "predicted_y = tf.squeeze(tf.nn.sigmoid(tf.matmul(input_X,weights)+b))\n",
    "loss = tf.reduce_mean(-tf.log(predicted_y)*input_y - tf.log(1-predicted_y)*(1-input_y))\n",
    "# Loss. Should be a scalar number - average loss over all the objects\n",
    "# tf.reduce_mean is your friend here\n",
    "# loss = <logistic loss (scalar, mean over sample)>\n",
    "\n",
    "# See above for an example. tf.train.*Optimizer\n",
    "# optimizer = <optimizer that minimizes loss>\n",
    "optimizer = tf.train.AdamOptimizer(0.01).minimize(loss)\n",
    "#optimizer = tf.train.MomentumOptimizer(0.01, 0.5).minimize(loss)"
   ]
  },
  {
   "cell_type": "markdown",
   "metadata": {},
   "source": [
    "A test to help with the debugging"
   ]
  },
  {
   "cell_type": "code",
   "execution_count": 81,
   "metadata": {},
   "outputs": [
    {
     "name": "stdout",
     "output_type": "stream",
     "text": [
      "(360,)\n",
      "360\n"
     ]
    },
    {
     "ename": "AssertionError",
     "evalue": "",
     "output_type": "error",
     "traceback": [
      "\u001b[0;31m---------------------------------------------------------------------------\u001b[0m",
      "\u001b[0;31mAssertionError\u001b[0m                            Traceback (most recent call last)",
      "\u001b[0;32m<ipython-input-81-bf786c71b75e>\u001b[0m in \u001b[0;36m<module>\u001b[0;34m()\u001b[0m\n\u001b[1;32m     23\u001b[0m             \u001b[0mweights\u001b[0m\u001b[0;34m:\u001b[0m \u001b[0mvalidation_weights\u001b[0m\u001b[0;34m+\u001b[0m\u001b[0;36m1.21e-3\u001b[0m\u001b[0;34m,\u001b[0m\u001b[0;34m\u001b[0m\u001b[0m\n\u001b[1;32m     24\u001b[0m             b: -1e-1})\n\u001b[0;32m---> 25\u001b[0;31m \u001b[0;32massert\u001b[0m \u001b[0mnp\u001b[0m\u001b[0;34m.\u001b[0m\u001b[0mallclose\u001b[0m\u001b[0;34m(\u001b[0m\u001b[0mloss_validation\u001b[0m\u001b[0;34m,\u001b[0m \u001b[0;36m0.728689\u001b[0m\u001b[0;34m)\u001b[0m\u001b[0;34m\u001b[0m\u001b[0m\n\u001b[0m",
      "\u001b[0;31mAssertionError\u001b[0m: "
     ]
    }
   ],
   "source": [
    "validation_weights = 1e-3 * np.fromiter(map(lambda x:\n",
    "        s.run(weird_psychotic_function, {my_scalar:x, my_vector:[1, 0.1, 2]}),\n",
    "                                   0.15 * np.arange(1, X.shape[1] + 1)),\n",
    "                                   count=X.shape[1], dtype=np.float32)[:, np.newaxis]\n",
    "# Compute predictions for given weights and bias\n",
    "prediction_validation = s.run(\n",
    "    predicted_y, {\n",
    "    input_X: X,\n",
    "    weights: validation_weights,\n",
    "    b: 1e-1})\n",
    "\n",
    "# Load the reference values for the predictions\n",
    "validation_true_values = np.loadtxt(\"validation_predictons.txt\")\n",
    "print(prediction_validation.shape)\n",
    "print(X.shape[0],)\n",
    "\n",
    "assert prediction_validation.shape == (X.shape[0],),\\\n",
    "       \"Predictions must be a 1D array with length equal to the number \" \\\n",
    "       \"of examples in input_X\"\n",
    "assert np.allclose(validation_true_values, prediction_validation)\n",
    "loss_validation = s.run(\n",
    "        loss, {\n",
    "            input_X: X_train,\n",
    "            input_y: y_train,\n",
    "            weights: validation_weights+1.21e-3,\n",
    "            b: -1e-1})\n",
    "assert np.allclose(loss_validation, 0.728689)"
   ]
  },
  {
   "cell_type": "code",
   "execution_count": 82,
   "metadata": {},
   "outputs": [
    {
     "data": {
      "text/plain": [
       "0.7291975"
      ]
     },
     "execution_count": 82,
     "metadata": {},
     "output_type": "execute_result"
    }
   ],
   "source": [
    "loss_validation"
   ]
  },
  {
   "cell_type": "code",
   "execution_count": 83,
   "metadata": {
    "scrolled": true
   },
   "outputs": [
    {
     "data": {
      "text/plain": [
       "0.7291975"
      ]
     },
     "execution_count": 83,
     "metadata": {},
     "output_type": "execute_result"
    }
   ],
   "source": [
    " s.run(\n",
    "        loss, {\n",
    "            input_X: X_train,\n",
    "            input_y: y_train,\n",
    "            weights: validation_weights+1.21e-3,\n",
    "            b: -1e-1})"
   ]
  },
  {
   "cell_type": "code",
   "execution_count": 84,
   "metadata": {},
   "outputs": [
    {
     "name": "stdout",
     "output_type": "stream",
     "text": [
      "loss at iter 0:0.1810\n",
      "train auc: 0.997968818621\n",
      "test auc: 0.991600790514\n",
      "loss at iter 1:0.1399\n",
      "train auc: 0.999780412824\n",
      "test auc: 0.997529644269\n",
      "loss at iter 2:0.0645\n",
      "train auc: 1.0\n",
      "test auc: 0.999505928854\n",
      "loss at iter 3:0.0389\n",
      "train auc: 1.0\n",
      "test auc: 1.0\n",
      "loss at iter 4:0.0363\n",
      "train auc: 1.0\n",
      "test auc: 1.0\n"
     ]
    }
   ],
   "source": [
    "from sklearn.metrics import roc_auc_score\n",
    "s.run(tf.global_variables_initializer())\n",
    "for i in range(5):\n",
    "    s.run(optimizer, {input_X: X_train, input_y: y_train})\n",
    "    loss_i = s.run(loss, {input_X: X_train, input_y: y_train})\n",
    "    print(\"loss at iter %i:%.4f\" % (i, loss_i))\n",
    "    print(\"train auc:\", roc_auc_score(y_train, s.run(predicted_y, {input_X:X_train})))\n",
    "    print(\"test auc:\", roc_auc_score(y_test, s.run(predicted_y, {input_X:X_test})))"
   ]
  },
  {
   "cell_type": "markdown",
   "metadata": {},
   "source": [
    "### Coursera submission"
   ]
  },
  {
   "cell_type": "code",
   "execution_count": 85,
   "metadata": {
    "collapsed": true
   },
   "outputs": [],
   "source": [
    "grade_submitter = grading.Grader(\"BJCiiY8sEeeCnhKCj4fcOA\")"
   ]
  },
  {
   "cell_type": "code",
   "execution_count": 86,
   "metadata": {
    "collapsed": true
   },
   "outputs": [],
   "source": [
    "test_weights = 1e-3 * np.fromiter(map(lambda x:\n",
    "    s.run(weird_psychotic_function, {my_scalar:x, my_vector:[1, 2, 3]}),\n",
    "                               0.1 * np.arange(1, X.shape[1] + 1)),\n",
    "                               count=X.shape[1], dtype=np.float32)[:, np.newaxis]"
   ]
  },
  {
   "cell_type": "markdown",
   "metadata": {},
   "source": [
    "First, test prediction and loss computation. This part doesn't require a fitted model."
   ]
  },
  {
   "cell_type": "code",
   "execution_count": 87,
   "metadata": {
    "collapsed": true
   },
   "outputs": [],
   "source": [
    "prediction_test = s.run(\n",
    "    predicted_y, {\n",
    "    input_X: X,\n",
    "    weights: test_weights,\n",
    "    b: 1e-1})"
   ]
  },
  {
   "cell_type": "code",
   "execution_count": 88,
   "metadata": {
    "collapsed": true
   },
   "outputs": [],
   "source": [
    "assert prediction_test.shape == (X.shape[0],),\\\n",
    "       \"Predictions must be a 1D array with length equal to the number \" \\\n",
    "       \"of examples in X_test\""
   ]
  },
  {
   "cell_type": "code",
   "execution_count": 89,
   "metadata": {
    "collapsed": true
   },
   "outputs": [],
   "source": [
    "grade_submitter.set_answer(\"0ENlN\", prediction_test)"
   ]
  },
  {
   "cell_type": "code",
   "execution_count": 90,
   "metadata": {
    "collapsed": true
   },
   "outputs": [],
   "source": [
    "loss_test = s.run(\n",
    "    loss, {\n",
    "        input_X: X[:100],\n",
    "        input_y: y[-100:],\n",
    "        weights: test_weights+1.21e-3,\n",
    "        b: -1e-1})\n",
    "# Yes, the X/y indices mistmach is intentional"
   ]
  },
  {
   "cell_type": "code",
   "execution_count": 91,
   "metadata": {
    "collapsed": true
   },
   "outputs": [],
   "source": [
    "grade_submitter.set_answer(\"mMVpM\", loss_test)"
   ]
  },
  {
   "cell_type": "code",
   "execution_count": 92,
   "metadata": {
    "collapsed": true
   },
   "outputs": [],
   "source": [
    "grade_submitter.set_answer(\"D16Rc\", roc_auc_score(y_test, s.run(predicted_y, {input_X:X_test})))"
   ]
  },
  {
   "cell_type": "markdown",
   "metadata": {},
   "source": [
    "Please use the credentials obtained from the Coursera assignment page."
   ]
  },
  {
   "cell_type": "code",
   "execution_count": 93,
   "metadata": {},
   "outputs": [
    {
     "name": "stdout",
     "output_type": "stream",
     "text": [
      "Submitted to Coursera platform. See results on assignment page!\n"
     ]
    }
   ],
   "source": [
    "grade_submitter.submit(\"tomar.ankur287@gmail.com\", \"5f0FvlezyXfBMX6g\")"
   ]
  },
  {
   "cell_type": "code",
   "execution_count": null,
   "metadata": {
    "collapsed": true
   },
   "outputs": [],
   "source": []
  }
 ],
 "metadata": {
  "kernelspec": {
   "display_name": "Python 3",
   "language": "python",
   "name": "python3"
  },
  "language_info": {
   "codemirror_mode": {
    "name": "ipython",
    "version": 3
   },
   "file_extension": ".py",
   "mimetype": "text/x-python",
   "name": "python",
   "nbconvert_exporter": "python",
   "pygments_lexer": "ipython3",
   "version": "3.6.4"
  }
 },
 "nbformat": 4,
 "nbformat_minor": 1
}
